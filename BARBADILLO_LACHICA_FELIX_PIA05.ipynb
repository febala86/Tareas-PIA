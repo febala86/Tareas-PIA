{
  "nbformat": 4,
  "nbformat_minor": 0,
  "metadata": {
    "colab": {
      "provenance": [],
      "include_colab_link": true
    },
    "kernelspec": {
      "name": "python3",
      "display_name": "Python 3"
    },
    "language_info": {
      "name": "python"
    }
  },
  "cells": [
    {
      "cell_type": "markdown",
      "metadata": {
        "id": "view-in-github",
        "colab_type": "text"
      },
      "source": [
        "<a href=\"https://colab.research.google.com/github/febala86/Tareas-PIA/blob/main/BARBADILLO_LACHICA_FELIX_PIA05.ipynb\" target=\"_parent\"><img src=\"https://colab.research.google.com/assets/colab-badge.svg\" alt=\"Open In Colab\"/></a>"
      ]
    },
    {
      "cell_type": "markdown",
      "source": [
        "# Modelo de clasificación de imágenes basado en una red neuronal profunda"
      ],
      "metadata": {
        "id": "PLMjyZtMDJys"
      }
    },
    {
      "cell_type": "markdown",
      "source": [
        "Se pide utilizar el dataset que viene precargado en la librería Keras: [CIFAR10](https://keras.io/api/datasets/cifar10/)\n"
      ],
      "metadata": {
        "id": "Q0QLgCXgDVm5"
      }
    },
    {
      "cell_type": "markdown",
      "source": [
        "1. Importa los módulos necesarios de la librería Keras. Sugerencia:\n",
        "\n",
        "\n",
        "```\n",
        "import numpy as np\n",
        "from keras.models import Sequential\n",
        "from keras.layers import Flatten, Dense\n",
        "```\n",
        "\n"
      ],
      "metadata": {
        "id": "yNPz6EQ9DtEc"
      }
    },
    {
      "cell_type": "code",
      "source": [
        "# IMPORTAMOS TODAS LAS LIBRERÍAS NECESARIAS PARA GRÁFICAS Y MODELOS DE RNP\n",
        "import pandas as pd\n",
        "import numpy as np\n",
        "import matplotlib.pyplot as plt\n",
        "import tensorflow as tf\n",
        "from tensorflow import keras\n",
        "from keras.models import Sequential\n",
        "from keras.layers import Flatten, Dense"
      ],
      "metadata": {
        "id": "J_bEYduNwnsv"
      },
      "execution_count": null,
      "outputs": []
    },
    {
      "cell_type": "markdown",
      "source": [
        "2. Importa el dataset CIFAR10 de Keras, en un conjunto de datos de entrenamiento y un conjunto de datos para test. Sugerencia:\n",
        "\n",
        "\n",
        "```\n",
        "from keras.datasets import cifar10\n",
        "\n",
        "(X_train, y_train), (X_test, y_test) = cifar10.load_data()\n",
        "```\n",
        "\n"
      ],
      "metadata": {
        "id": "hT2HMGeTEEM6"
      }
    },
    {
      "cell_type": "code",
      "source": [
        "# IMPORTACIÓN DEL DATASET DIRECTAMENTE DE KERAS\n",
        "from keras.datasets import cifar10\n",
        "#Separación de los datos para entrenar y test.\n",
        "(X_train, y_train), (X_test, y_test) = cifar10.load_data()"
      ],
      "metadata": {
        "id": "4LvEGrUwwzoz",
        "colab": {
          "base_uri": "https://localhost:8080/"
        },
        "outputId": "8f4f22bb-23df-474e-ac0e-470185ad30d6"
      },
      "execution_count": null,
      "outputs": [
        {
          "output_type": "stream",
          "name": "stdout",
          "text": [
            "Downloading data from https://www.cs.toronto.edu/~kriz/cifar-10-python.tar.gz\n",
            "170498071/170498071 [==============================] - 3s 0us/step\n"
          ]
        }
      ]
    },
    {
      "cell_type": "markdown",
      "source": [
        "3. Explora los datos, especialmente, las dimensiones del dataset. Aplica normalización a los datos de entrada y la técnica one-hot encoding a los de salida.\n",
        "\n",
        "*Sugerencia para normalizar:*\n",
        "\n",
        "\n",
        "```\n",
        "X_train = X_train.astype('float32')\n",
        "X_test = X_test.astype('float32')\n",
        "X_train = X_train / 255.0\n",
        "X_test = X_test / 255.0\n",
        "```\n",
        "*Sugerencia de aplicación one-hot encoding para categorizar etiquetas:*\n",
        "\n",
        "\n",
        "```\n",
        "# one hot encode outputs\n",
        "y_train = np_utils.to_categorical(y_train)\n",
        "y_test = np_utils.to_categorical(y_test)\n",
        "num_classes = y_test.shape[1]\n",
        "```\n",
        "\n",
        "\n"
      ],
      "metadata": {
        "id": "JMV6a8MGNPPR"
      }
    },
    {
      "cell_type": "markdown",
      "source": [
        "Este es un dataset de 50000 imágenes para entrenamiento de modelos de 32x32 pixeles y en RGB \"3\".\n",
        "\n",
        "Además de 10000 imágenes de test.\n",
        "\n",
        "Tiene a su vez 10 categoías o etiquetas.\n",
        "\n",
        "ETIQUETA  | DESCRIPCIÓN\n",
        "------|------------------\n",
        "0     | Avión\n",
        "1     | Automóvil\n",
        "2     | Pájaro\n",
        "3     | Gato\n",
        "4     | Venado\n",
        "5     | Perro\n",
        "6     | Rana\n",
        "7     | Caballo\n",
        "8     | Barco\n",
        "9     | Camión\n",
        "\n",
        "x_train: Array , uint8, de datos de imagen en escala de grises con formas (50000, 32, 32, 3), que contiene los datos de entrenamiento. Los valores de píxel van de 0 a 255.\n",
        "\n",
        "y_train: Array NumPy, uint8, de etiquetas (enteros en el rango de 0 a 9) con forma (50000, 1) para los datos de entrenamiento.\n",
        "\n",
        "x_test: Array NumPy, uint8, de datos de imagen en escala de grises con formas (10000, 32, 32, 3), que contiene los datos de prueba. Los valores de píxel van de 0 a 255.\n",
        "\n",
        "y_test: Array NumPy, uint8, de etiquetas (enteros en el rango de 0 a 9) con forma (10000, 1) para los datos de prueba."
      ],
      "metadata": {
        "id": "KKPaIrPUlg_t"
      }
    },
    {
      "cell_type": "code",
      "source": [
        "# Las dimensiones se calculan con shape, tenemos 50000 imágenes de 32x32 pixeles y en RGB \"3\"\n",
        "X_train.shape\n"
      ],
      "metadata": {
        "id": "Wzh3muDt7Obo",
        "colab": {
          "base_uri": "https://localhost:8080/"
        },
        "outputId": "b188fecf-2363-48d9-c633-592a57c2a372"
      },
      "execution_count": null,
      "outputs": [
        {
          "output_type": "execute_result",
          "data": {
            "text/plain": [
              "(50000, 32, 32, 3)"
            ]
          },
          "metadata": {},
          "execution_count": 3
        }
      ]
    },
    {
      "cell_type": "code",
      "source": [
        "X_test.shape"
      ],
      "metadata": {
        "colab": {
          "base_uri": "https://localhost:8080/"
        },
        "id": "Md1ohAxhoqp_",
        "outputId": "7fbc72f3-2793-4003-b8c1-82fb88f0bce8"
      },
      "execution_count": 4,
      "outputs": [
        {
          "output_type": "execute_result",
          "data": {
            "text/plain": [
              "(10000, 32, 32, 3)"
            ]
          },
          "metadata": {},
          "execution_count": 4
        }
      ]
    },
    {
      "cell_type": "code",
      "source": [
        "y_train.shape"
      ],
      "metadata": {
        "colab": {
          "base_uri": "https://localhost:8080/"
        },
        "id": "DJw4v2YnpjhA",
        "outputId": "982283f6-44b3-4b48-b58d-644b8ebc6de7"
      },
      "execution_count": 6,
      "outputs": [
        {
          "output_type": "execute_result",
          "data": {
            "text/plain": [
              "(50000, 1)"
            ]
          },
          "metadata": {},
          "execution_count": 6
        }
      ]
    },
    {
      "cell_type": "code",
      "source": [
        "y_test.shape"
      ],
      "metadata": {
        "colab": {
          "base_uri": "https://localhost:8080/"
        },
        "id": "ToEMUajCpjQq",
        "outputId": "9f8949f0-3adf-41d3-e661-3cf6344b2367"
      },
      "execution_count": 7,
      "outputs": [
        {
          "output_type": "execute_result",
          "data": {
            "text/plain": [
              "(10000, 1)"
            ]
          },
          "metadata": {},
          "execution_count": 7
        }
      ]
    },
    {
      "cell_type": "code",
      "source": [
        "# Visualizamos la imagen número 100 de entrenamiento\n",
        "plt.figure()\n",
        "plt.imshow(X_train[100])\n",
        "plt.colorbar()"
      ],
      "metadata": {
        "id": "WTAEzXe79Mm1"
      },
      "execution_count": null,
      "outputs": []
    },
    {
      "cell_type": "markdown",
      "source": [
        "Para poder aplica el one hot encode, utilizamos una utilidad de keras importando to_categorical."
      ],
      "metadata": {
        "id": "6NL90Iy7ptNC"
      }
    },
    {
      "cell_type": "code",
      "source": [
        "# one hot encode outputs\n",
        "from keras.utils import to_categorical\n",
        "train_labels = to_categorical(y_train, 10)\n",
        "test_labels = to_categorical(y_test, 10)\n",
        "num_classes = test_labels.shape[1]\n"
      ],
      "metadata": {
        "id": "8kdaUdg9jK32"
      },
      "execution_count": 8,
      "outputs": []
    },
    {
      "cell_type": "code",
      "source": [
        "#Normalizamos los datos para que el valor del pixel vaya de 0 a 255 convertirlo a 0 a 1\n",
        "X_train = X_train.astype('float32')\n",
        "X_test = X_test.astype('float32')\n",
        "X_train = X_train / 255.0\n",
        "X_test = X_test / 255.0\n"
      ],
      "metadata": {
        "id": "avKjccrTiyHi"
      },
      "execution_count": 34,
      "outputs": []
    },
    {
      "cell_type": "markdown",
      "source": [
        "4. Crea un modelo basado en redes neuronales profundas que tenga más de una capa de tipo Dense (Keras). Si es necesario, usa la capa Flatten al principio. Prueba un primer modelo lo más sencillo posible."
      ],
      "metadata": {
        "id": "_2a1w5nGONsG"
      }
    },
    {
      "cell_type": "code",
      "source": [
        "model1 = Sequential()\n",
        "model1.add(Flatten(input_shape=(32,32,3)))   # Capa de flatten para aplanar la entrada.\n",
        "model1.add(Dense(256, activation='relu'))    # Capa densa después de la capa flatten.\n",
        "model1.add(Dense(128, activation='relu'))    # Segunda capa\n",
        "model1.add(Dense(10, activation='softmax'))  # Capa de salida para clasificación con 10 etiquetas."
      ],
      "metadata": {
        "id": "tGOfZyTWhvlc"
      },
      "execution_count": 11,
      "outputs": []
    },
    {
      "cell_type": "markdown",
      "source": [
        "5. Configura el entrenamiento utilizando la función compile, con la función loss = 'categorical_crossentropy' y el optimizador Adam. Utiliza la función fit para entrenar el modelo, inicialmente, con 20 epochs.\n",
        "\n",
        "El **\"batch size\"** hace referencia al número de ejemplos de entrenamiento que se utilizan en una iteración durante el proceso de entrenamiento. El tamaño del lote puede afectar la velocidad de entrenamiento y la estabilidad del modelo.\n",
        "\n",
        "Un tamaño de lote más grande puede acelerar el entrenamiento, pero también puede requerir más memoria. Un tamaño de lote más pequeño puede proporcionar una estimación más precisa del gradiente, pero el entrenamiento puede ser más lento.\n",
        "\n",
        "El **\"validation split\"** es la fracción de los datos de entrenamiento que se separan para su uso en la validación del modelo.\n",
        "\n",
        "Durante el entrenamiento, una parte de los datos se utiliza para ajustar los parámetros del modelo, y otra parte se reserva para evaluar el rendimiento del modelo en datos que no ha visto durante el entrenamiento."
      ],
      "metadata": {
        "id": "uGrjnPxzO1Q6"
      }
    },
    {
      "cell_type": "markdown",
      "source": [
        "**Adam (Adaptive Moment Estimation)** es un optimizador que combina las ventajas de los métodos de *momentum y RMSprop*.\n",
        "\n",
        "Efectivo en una amplia gama de tareas de aprendizaje profundo como la clasificación de imágenes.\n",
        "\n",
        "Para problemas de clasificación multiclase, para predecir entre más de dos clases mutuamente excluyentes, la función *loss* comúnmente utilizada es **Sparse_categorical_crossentropy**"
      ],
      "metadata": {
        "id": "hAdiKhDAt7ug"
      }
    },
    {
      "cell_type": "code",
      "source": [
        "# Definimos el promer modelo con compile y luego lo entrenaremos con fit\n",
        "model1.compile(optimizer= 'Adam', loss = 'sparse_categorical_crossentropy', metrics=['accuracy'])\n",
        "history1=model1.fit(\n",
        "    X_train,\n",
        "    y_train,\n",
        "    batch_size=64,\n",
        "    epochs=20,\n",
        "    validation_split=0.2)"
      ],
      "metadata": {
        "id": "t6FcgGB40dPR",
        "colab": {
          "base_uri": "https://localhost:8080/"
        },
        "outputId": "986a5455-9f12-4fab-fe6b-bfee3fcebd32"
      },
      "execution_count": 12,
      "outputs": [
        {
          "output_type": "stream",
          "name": "stdout",
          "text": [
            "Epoch 1/20\n",
            "625/625 [==============================] - 14s 20ms/step - loss: 1.9076 - accuracy: 0.3145 - val_loss: 1.7873 - val_accuracy: 0.3705\n",
            "Epoch 2/20\n",
            "625/625 [==============================] - 11s 18ms/step - loss: 1.7062 - accuracy: 0.3905 - val_loss: 1.6977 - val_accuracy: 0.3926\n",
            "Epoch 3/20\n",
            "625/625 [==============================] - 12s 19ms/step - loss: 1.6292 - accuracy: 0.4188 - val_loss: 1.6969 - val_accuracy: 0.4012\n",
            "Epoch 4/20\n",
            "625/625 [==============================] - 12s 19ms/step - loss: 1.5757 - accuracy: 0.4366 - val_loss: 1.6121 - val_accuracy: 0.4301\n",
            "Epoch 5/20\n",
            "625/625 [==============================] - 12s 19ms/step - loss: 1.5319 - accuracy: 0.4509 - val_loss: 1.6040 - val_accuracy: 0.4291\n",
            "Epoch 6/20\n",
            "625/625 [==============================] - 11s 18ms/step - loss: 1.4969 - accuracy: 0.4651 - val_loss: 1.5800 - val_accuracy: 0.4403\n",
            "Epoch 7/20\n",
            "625/625 [==============================] - 10s 16ms/step - loss: 1.4653 - accuracy: 0.4772 - val_loss: 1.5250 - val_accuracy: 0.4608\n",
            "Epoch 8/20\n",
            "625/625 [==============================] - 11s 18ms/step - loss: 1.4514 - accuracy: 0.4812 - val_loss: 1.5346 - val_accuracy: 0.4599\n",
            "Epoch 9/20\n",
            "625/625 [==============================] - 11s 18ms/step - loss: 1.4272 - accuracy: 0.4886 - val_loss: 1.4800 - val_accuracy: 0.4763\n",
            "Epoch 10/20\n",
            "625/625 [==============================] - 11s 18ms/step - loss: 1.4073 - accuracy: 0.4934 - val_loss: 1.5552 - val_accuracy: 0.4489\n",
            "Epoch 11/20\n",
            "625/625 [==============================] - 12s 19ms/step - loss: 1.3927 - accuracy: 0.5009 - val_loss: 1.4918 - val_accuracy: 0.4754\n",
            "Epoch 12/20\n",
            "625/625 [==============================] - 12s 19ms/step - loss: 1.3740 - accuracy: 0.5084 - val_loss: 1.5170 - val_accuracy: 0.4699\n",
            "Epoch 13/20\n",
            "625/625 [==============================] - 12s 19ms/step - loss: 1.3532 - accuracy: 0.5152 - val_loss: 1.5228 - val_accuracy: 0.4688\n",
            "Epoch 14/20\n",
            "625/625 [==============================] - 12s 19ms/step - loss: 1.3378 - accuracy: 0.5209 - val_loss: 1.4633 - val_accuracy: 0.4868\n",
            "Epoch 15/20\n",
            "625/625 [==============================] - 11s 18ms/step - loss: 1.3239 - accuracy: 0.5278 - val_loss: 1.5170 - val_accuracy: 0.4695\n",
            "Epoch 16/20\n",
            "625/625 [==============================] - 11s 17ms/step - loss: 1.3121 - accuracy: 0.5287 - val_loss: 1.4637 - val_accuracy: 0.4848\n",
            "Epoch 17/20\n",
            "625/625 [==============================] - 11s 18ms/step - loss: 1.2955 - accuracy: 0.5384 - val_loss: 1.4933 - val_accuracy: 0.4816\n",
            "Epoch 18/20\n",
            "625/625 [==============================] - 11s 17ms/step - loss: 1.2878 - accuracy: 0.5384 - val_loss: 1.5194 - val_accuracy: 0.4670\n",
            "Epoch 19/20\n",
            "625/625 [==============================] - 12s 19ms/step - loss: 1.2763 - accuracy: 0.5426 - val_loss: 1.4687 - val_accuracy: 0.4897\n",
            "Epoch 20/20\n",
            "625/625 [==============================] - 12s 19ms/step - loss: 1.2663 - accuracy: 0.5473 - val_loss: 1.4514 - val_accuracy: 0.4919\n"
          ]
        }
      ]
    },
    {
      "cell_type": "code",
      "source": [
        "#Mostramos y guardamos la evaluzación del entrenamiento y del test para luego guardar en tabla.\n",
        "test_lost, test_acc = model1.evaluate(X_test, y_test)\n",
        "train_lost, train_acc = model1.evaluate(X_train, y_train)\n",
        "print ('Acierto entrenamiento: ',train_acc, 'Acierto Test: ',test_acc, sep='\\n')"
      ],
      "metadata": {
        "colab": {
          "base_uri": "https://localhost:8080/"
        },
        "id": "RBhuK-Pv3EU3",
        "outputId": "eac45812-b7f3-416b-92b3-2e82975d35bf"
      },
      "execution_count": 13,
      "outputs": [
        {
          "output_type": "stream",
          "name": "stdout",
          "text": [
            "313/313 [==============================] - 1s 4ms/step - loss: 238.3811 - accuracy: 0.4364\n",
            "1563/1563 [==============================] - 7s 4ms/step - loss: 1.2642 - accuracy: 0.5499\n",
            "Acierto entrenamiento: \n",
            "0.5499399900436401\n",
            "Acierto Test: \n",
            "0.43639999628067017\n"
          ]
        }
      ]
    },
    {
      "cell_type": "code",
      "source": [
        "#Creamos dataframe de estadisticas donde se almacenarán resultados de los distintos modelos.\n",
        "estadisticas=pd.DataFrame(columns=['model','test acc','train acc'])\n",
        "estadisticas = pd.concat ([estadisticas, pd.DataFrame ([{'model':'Modelo1 RNP','test acc':test_acc ,'train acc':train_acc}])])\n",
        "estadisticas"
      ],
      "metadata": {
        "colab": {
          "base_uri": "https://localhost:8080/",
          "height": 81
        },
        "id": "sM_1mte29fZq",
        "outputId": "2a489566-3d0d-4bc8-cc38-5a9b0431a299"
      },
      "execution_count": 14,
      "outputs": [
        {
          "output_type": "execute_result",
          "data": {
            "text/plain": [
              "         model  test acc  train acc\n",
              "0  Modelo1 RNP    0.4364    0.54994"
            ],
            "text/html": [
              "\n",
              "  <div id=\"df-bb186a71-f090-4edb-99ae-141b85a87c15\" class=\"colab-df-container\">\n",
              "    <div>\n",
              "<style scoped>\n",
              "    .dataframe tbody tr th:only-of-type {\n",
              "        vertical-align: middle;\n",
              "    }\n",
              "\n",
              "    .dataframe tbody tr th {\n",
              "        vertical-align: top;\n",
              "    }\n",
              "\n",
              "    .dataframe thead th {\n",
              "        text-align: right;\n",
              "    }\n",
              "</style>\n",
              "<table border=\"1\" class=\"dataframe\">\n",
              "  <thead>\n",
              "    <tr style=\"text-align: right;\">\n",
              "      <th></th>\n",
              "      <th>model</th>\n",
              "      <th>test acc</th>\n",
              "      <th>train acc</th>\n",
              "    </tr>\n",
              "  </thead>\n",
              "  <tbody>\n",
              "    <tr>\n",
              "      <th>0</th>\n",
              "      <td>Modelo1 RNP</td>\n",
              "      <td>0.4364</td>\n",
              "      <td>0.54994</td>\n",
              "    </tr>\n",
              "  </tbody>\n",
              "</table>\n",
              "</div>\n",
              "    <div class=\"colab-df-buttons\">\n",
              "\n",
              "  <div class=\"colab-df-container\">\n",
              "    <button class=\"colab-df-convert\" onclick=\"convertToInteractive('df-bb186a71-f090-4edb-99ae-141b85a87c15')\"\n",
              "            title=\"Convert this dataframe to an interactive table.\"\n",
              "            style=\"display:none;\">\n",
              "\n",
              "  <svg xmlns=\"http://www.w3.org/2000/svg\" height=\"24px\" viewBox=\"0 -960 960 960\">\n",
              "    <path d=\"M120-120v-720h720v720H120Zm60-500h600v-160H180v160Zm220 220h160v-160H400v160Zm0 220h160v-160H400v160ZM180-400h160v-160H180v160Zm440 0h160v-160H620v160ZM180-180h160v-160H180v160Zm440 0h160v-160H620v160Z\"/>\n",
              "  </svg>\n",
              "    </button>\n",
              "\n",
              "  <style>\n",
              "    .colab-df-container {\n",
              "      display:flex;\n",
              "      gap: 12px;\n",
              "    }\n",
              "\n",
              "    .colab-df-convert {\n",
              "      background-color: #E8F0FE;\n",
              "      border: none;\n",
              "      border-radius: 50%;\n",
              "      cursor: pointer;\n",
              "      display: none;\n",
              "      fill: #1967D2;\n",
              "      height: 32px;\n",
              "      padding: 0 0 0 0;\n",
              "      width: 32px;\n",
              "    }\n",
              "\n",
              "    .colab-df-convert:hover {\n",
              "      background-color: #E2EBFA;\n",
              "      box-shadow: 0px 1px 2px rgba(60, 64, 67, 0.3), 0px 1px 3px 1px rgba(60, 64, 67, 0.15);\n",
              "      fill: #174EA6;\n",
              "    }\n",
              "\n",
              "    .colab-df-buttons div {\n",
              "      margin-bottom: 4px;\n",
              "    }\n",
              "\n",
              "    [theme=dark] .colab-df-convert {\n",
              "      background-color: #3B4455;\n",
              "      fill: #D2E3FC;\n",
              "    }\n",
              "\n",
              "    [theme=dark] .colab-df-convert:hover {\n",
              "      background-color: #434B5C;\n",
              "      box-shadow: 0px 1px 3px 1px rgba(0, 0, 0, 0.15);\n",
              "      filter: drop-shadow(0px 1px 2px rgba(0, 0, 0, 0.3));\n",
              "      fill: #FFFFFF;\n",
              "    }\n",
              "  </style>\n",
              "\n",
              "    <script>\n",
              "      const buttonEl =\n",
              "        document.querySelector('#df-bb186a71-f090-4edb-99ae-141b85a87c15 button.colab-df-convert');\n",
              "      buttonEl.style.display =\n",
              "        google.colab.kernel.accessAllowed ? 'block' : 'none';\n",
              "\n",
              "      async function convertToInteractive(key) {\n",
              "        const element = document.querySelector('#df-bb186a71-f090-4edb-99ae-141b85a87c15');\n",
              "        const dataTable =\n",
              "          await google.colab.kernel.invokeFunction('convertToInteractive',\n",
              "                                                    [key], {});\n",
              "        if (!dataTable) return;\n",
              "\n",
              "        const docLinkHtml = 'Like what you see? Visit the ' +\n",
              "          '<a target=\"_blank\" href=https://colab.research.google.com/notebooks/data_table.ipynb>data table notebook</a>'\n",
              "          + ' to learn more about interactive tables.';\n",
              "        element.innerHTML = '';\n",
              "        dataTable['output_type'] = 'display_data';\n",
              "        await google.colab.output.renderOutput(dataTable, element);\n",
              "        const docLink = document.createElement('div');\n",
              "        docLink.innerHTML = docLinkHtml;\n",
              "        element.appendChild(docLink);\n",
              "      }\n",
              "    </script>\n",
              "  </div>\n",
              "\n",
              "    </div>\n",
              "  </div>\n"
            ],
            "application/vnd.google.colaboratory.intrinsic+json": {
              "type": "dataframe",
              "variable_name": "estadisticas",
              "summary": "{\n  \"name\": \"estadisticas\",\n  \"rows\": 1,\n  \"fields\": [\n    {\n      \"column\": \"model\",\n      \"properties\": {\n        \"dtype\": \"string\",\n        \"samples\": [\n          \"Modelo1 RNP\"\n        ],\n        \"num_unique_values\": 1,\n        \"semantic_type\": \"\",\n        \"description\": \"\"\n      }\n    },\n    {\n      \"column\": \"test acc\",\n      \"properties\": {\n        \"dtype\": \"number\",\n        \"std\": NaN,\n        \"min\": 0.43639999628067017,\n        \"max\": 0.43639999628067017,\n        \"samples\": [\n          0.43639999628067017\n        ],\n        \"num_unique_values\": 1,\n        \"semantic_type\": \"\",\n        \"description\": \"\"\n      }\n    },\n    {\n      \"column\": \"train acc\",\n      \"properties\": {\n        \"dtype\": \"number\",\n        \"std\": NaN,\n        \"min\": 0.5499399900436401,\n        \"max\": 0.5499399900436401,\n        \"samples\": [\n          0.5499399900436401\n        ],\n        \"num_unique_values\": 1,\n        \"semantic_type\": \"\",\n        \"description\": \"\"\n      }\n    }\n  ]\n}"
            }
          },
          "metadata": {},
          "execution_count": 14
        }
      ]
    },
    {
      "cell_type": "markdown",
      "source": [
        "6. Crea un nuevo modelo con más capas y mayor número de neuronas. Entrénalo utilizando un número mayor de epochs y analiza el resultado. ¿Has conseguido mejorar la precisión? haz varias pruebas y quédate con el modelo que mejores resultados da.\n",
        "Probé sin batch_size y sin validation_split y ofrecía peores valores y tardaba significativamente más en realizar el entrenamiento.\n",
        "El mejor resultado lo obtuve con 256 en la primera capa y 128 en la segunda, y con los 10 de salida."
      ],
      "metadata": {
        "id": "kpZWLhGrPN3V"
      }
    },
    {
      "cell_type": "code",
      "source": [
        "# En este segundo modelo añadimos una capa, más neuronas de entrada y mas epoch \"50\"\n",
        "model2 = Sequential()\n",
        "model2.add(Flatten(input_shape=(32,32,3)))\n",
        "model2.add(Dense(500, activation='relu'))\n",
        "model2.add(Dense(256, activation='relu'))\n",
        "model2.add(Dense(128, activation='relu'))\n",
        "model2.add(Dense(10, activation='softmax'))"
      ],
      "metadata": {
        "id": "qJQXD3DZ966Y"
      },
      "execution_count": 19,
      "outputs": []
    },
    {
      "cell_type": "code",
      "source": [
        "model2.compile(optimizer= 'Adam', loss = 'sparse_categorical_crossentropy', metrics=['accuracy'])\n",
        "history2=model2.fit(\n",
        "    X_train,\n",
        "    y_train,\n",
        "    batch_size=64,\n",
        "    epochs=50,\n",
        "    validation_split=0.2)"
      ],
      "metadata": {
        "colab": {
          "base_uri": "https://localhost:8080/"
        },
        "id": "XYFAWIzJKzMa",
        "outputId": "5034b3d8-d67f-4a00-c307-743ad4ee09c2"
      },
      "execution_count": 20,
      "outputs": [
        {
          "output_type": "stream",
          "name": "stdout",
          "text": [
            "Epoch 1/50\n",
            "625/625 [==============================] - 18s 28ms/step - loss: 1.9035 - accuracy: 0.3110 - val_loss: 1.7514 - val_accuracy: 0.3667\n",
            "Epoch 2/50\n",
            "625/625 [==============================] - 18s 30ms/step - loss: 1.7056 - accuracy: 0.3885 - val_loss: 1.7108 - val_accuracy: 0.3835\n",
            "Epoch 3/50\n",
            "625/625 [==============================] - 18s 28ms/step - loss: 1.6216 - accuracy: 0.4180 - val_loss: 1.6684 - val_accuracy: 0.4060\n",
            "Epoch 4/50\n",
            "625/625 [==============================] - 22s 36ms/step - loss: 1.5619 - accuracy: 0.4418 - val_loss: 1.5876 - val_accuracy: 0.4343\n",
            "Epoch 5/50\n",
            "625/625 [==============================] - 18s 28ms/step - loss: 1.5108 - accuracy: 0.4625 - val_loss: 1.5460 - val_accuracy: 0.4443\n",
            "Epoch 6/50\n",
            "625/625 [==============================] - 18s 29ms/step - loss: 1.4792 - accuracy: 0.4721 - val_loss: 1.5382 - val_accuracy: 0.4614\n",
            "Epoch 7/50\n",
            "625/625 [==============================] - 17s 28ms/step - loss: 1.4402 - accuracy: 0.4845 - val_loss: 1.5525 - val_accuracy: 0.4551\n",
            "Epoch 8/50\n",
            "625/625 [==============================] - 19s 31ms/step - loss: 1.4177 - accuracy: 0.4945 - val_loss: 1.5023 - val_accuracy: 0.4652\n",
            "Epoch 9/50\n",
            "625/625 [==============================] - 18s 29ms/step - loss: 1.3857 - accuracy: 0.5027 - val_loss: 1.5055 - val_accuracy: 0.4688\n",
            "Epoch 10/50\n",
            "625/625 [==============================] - 19s 30ms/step - loss: 1.3639 - accuracy: 0.5118 - val_loss: 1.4710 - val_accuracy: 0.4805\n",
            "Epoch 11/50\n",
            "625/625 [==============================] - 26s 41ms/step - loss: 1.3447 - accuracy: 0.5182 - val_loss: 1.4915 - val_accuracy: 0.4818\n",
            "Epoch 12/50\n",
            "625/625 [==============================] - 25s 40ms/step - loss: 1.3203 - accuracy: 0.5260 - val_loss: 1.4969 - val_accuracy: 0.4736\n",
            "Epoch 13/50\n",
            "625/625 [==============================] - 31s 49ms/step - loss: 1.2978 - accuracy: 0.5361 - val_loss: 1.4591 - val_accuracy: 0.4853\n",
            "Epoch 14/50\n",
            "625/625 [==============================] - 24s 39ms/step - loss: 1.2782 - accuracy: 0.5396 - val_loss: 1.5131 - val_accuracy: 0.4728\n",
            "Epoch 15/50\n",
            "625/625 [==============================] - 19s 31ms/step - loss: 1.2550 - accuracy: 0.5467 - val_loss: 1.4879 - val_accuracy: 0.4866\n",
            "Epoch 16/50\n",
            "625/625 [==============================] - 20s 33ms/step - loss: 1.2339 - accuracy: 0.5561 - val_loss: 1.4537 - val_accuracy: 0.4909\n",
            "Epoch 17/50\n",
            "625/625 [==============================] - 19s 31ms/step - loss: 1.2056 - accuracy: 0.5672 - val_loss: 1.4568 - val_accuracy: 0.4921\n",
            "Epoch 18/50\n",
            "625/625 [==============================] - 21s 34ms/step - loss: 1.1936 - accuracy: 0.5711 - val_loss: 1.5004 - val_accuracy: 0.4803\n",
            "Epoch 19/50\n",
            "625/625 [==============================] - 27s 43ms/step - loss: 1.1768 - accuracy: 0.5753 - val_loss: 1.4896 - val_accuracy: 0.4957\n",
            "Epoch 20/50\n",
            "625/625 [==============================] - 26s 41ms/step - loss: 1.1494 - accuracy: 0.5856 - val_loss: 1.5184 - val_accuracy: 0.4869\n",
            "Epoch 21/50\n",
            "625/625 [==============================] - 26s 41ms/step - loss: 1.1307 - accuracy: 0.5929 - val_loss: 1.5225 - val_accuracy: 0.4900\n",
            "Epoch 22/50\n",
            "625/625 [==============================] - 26s 41ms/step - loss: 1.1153 - accuracy: 0.5997 - val_loss: 1.5252 - val_accuracy: 0.4898\n",
            "Epoch 23/50\n",
            "625/625 [==============================] - 26s 42ms/step - loss: 1.0950 - accuracy: 0.6052 - val_loss: 1.5305 - val_accuracy: 0.4917\n",
            "Epoch 24/50\n",
            "625/625 [==============================] - 22s 36ms/step - loss: 1.0840 - accuracy: 0.6106 - val_loss: 1.5220 - val_accuracy: 0.4890\n",
            "Epoch 25/50\n",
            "625/625 [==============================] - 24s 39ms/step - loss: 1.0581 - accuracy: 0.6172 - val_loss: 1.5507 - val_accuracy: 0.4935\n",
            "Epoch 26/50\n",
            "625/625 [==============================] - 21s 34ms/step - loss: 1.0444 - accuracy: 0.6233 - val_loss: 1.5850 - val_accuracy: 0.4877\n",
            "Epoch 27/50\n",
            "625/625 [==============================] - 18s 28ms/step - loss: 1.0215 - accuracy: 0.6309 - val_loss: 1.6607 - val_accuracy: 0.4712\n",
            "Epoch 28/50\n",
            "625/625 [==============================] - 19s 30ms/step - loss: 1.0107 - accuracy: 0.6379 - val_loss: 1.5987 - val_accuracy: 0.4905\n",
            "Epoch 29/50\n",
            "625/625 [==============================] - 17s 28ms/step - loss: 0.9963 - accuracy: 0.6389 - val_loss: 1.6257 - val_accuracy: 0.4837\n",
            "Epoch 30/50\n",
            "625/625 [==============================] - 19s 31ms/step - loss: 0.9809 - accuracy: 0.6456 - val_loss: 1.6092 - val_accuracy: 0.4966\n",
            "Epoch 31/50\n",
            "625/625 [==============================] - 18s 29ms/step - loss: 0.9587 - accuracy: 0.6553 - val_loss: 1.6557 - val_accuracy: 0.4917\n",
            "Epoch 32/50\n",
            "625/625 [==============================] - 19s 31ms/step - loss: 0.9457 - accuracy: 0.6585 - val_loss: 1.7132 - val_accuracy: 0.4850\n",
            "Epoch 33/50\n",
            "625/625 [==============================] - 18s 29ms/step - loss: 0.9275 - accuracy: 0.6676 - val_loss: 1.6860 - val_accuracy: 0.4893\n",
            "Epoch 34/50\n",
            "625/625 [==============================] - 18s 28ms/step - loss: 0.9163 - accuracy: 0.6685 - val_loss: 1.6748 - val_accuracy: 0.4874\n",
            "Epoch 35/50\n",
            "625/625 [==============================] - 18s 29ms/step - loss: 0.8927 - accuracy: 0.6757 - val_loss: 1.7273 - val_accuracy: 0.4858\n",
            "Epoch 36/50\n",
            "625/625 [==============================] - 17s 28ms/step - loss: 0.8854 - accuracy: 0.6815 - val_loss: 1.7459 - val_accuracy: 0.4798\n",
            "Epoch 37/50\n",
            "625/625 [==============================] - 20s 32ms/step - loss: 0.8703 - accuracy: 0.6848 - val_loss: 1.7577 - val_accuracy: 0.4894\n",
            "Epoch 38/50\n",
            "625/625 [==============================] - 18s 29ms/step - loss: 0.8586 - accuracy: 0.6877 - val_loss: 1.7656 - val_accuracy: 0.4889\n",
            "Epoch 39/50\n",
            "625/625 [==============================] - 19s 31ms/step - loss: 0.8505 - accuracy: 0.6917 - val_loss: 1.8513 - val_accuracy: 0.4743\n",
            "Epoch 40/50\n",
            "625/625 [==============================] - 18s 29ms/step - loss: 0.8373 - accuracy: 0.6952 - val_loss: 1.8259 - val_accuracy: 0.4874\n",
            "Epoch 41/50\n",
            "625/625 [==============================] - 19s 31ms/step - loss: 0.8242 - accuracy: 0.7017 - val_loss: 1.8565 - val_accuracy: 0.4844\n",
            "Epoch 42/50\n",
            "625/625 [==============================] - 18s 28ms/step - loss: 0.8085 - accuracy: 0.7079 - val_loss: 1.9557 - val_accuracy: 0.4831\n",
            "Epoch 43/50\n",
            "625/625 [==============================] - 19s 31ms/step - loss: 0.7995 - accuracy: 0.7087 - val_loss: 1.8746 - val_accuracy: 0.4939\n",
            "Epoch 44/50\n",
            "625/625 [==============================] - 18s 28ms/step - loss: 0.7908 - accuracy: 0.7145 - val_loss: 1.8935 - val_accuracy: 0.4834\n",
            "Epoch 45/50\n",
            "625/625 [==============================] - 18s 28ms/step - loss: 0.7706 - accuracy: 0.7235 - val_loss: 1.9076 - val_accuracy: 0.4940\n",
            "Epoch 46/50\n",
            "625/625 [==============================] - 20s 32ms/step - loss: 0.7657 - accuracy: 0.7233 - val_loss: 1.9782 - val_accuracy: 0.4893\n",
            "Epoch 47/50\n",
            "625/625 [==============================] - 18s 28ms/step - loss: 0.7497 - accuracy: 0.7312 - val_loss: 2.0600 - val_accuracy: 0.4828\n",
            "Epoch 48/50\n",
            "625/625 [==============================] - 19s 30ms/step - loss: 0.7391 - accuracy: 0.7337 - val_loss: 1.9970 - val_accuracy: 0.4811\n",
            "Epoch 49/50\n",
            "625/625 [==============================] - 18s 28ms/step - loss: 0.7237 - accuracy: 0.7387 - val_loss: 2.0471 - val_accuracy: 0.4787\n",
            "Epoch 50/50\n",
            "625/625 [==============================] - 19s 31ms/step - loss: 0.7189 - accuracy: 0.7383 - val_loss: 2.1045 - val_accuracy: 0.4783\n"
          ]
        }
      ]
    },
    {
      "cell_type": "markdown",
      "source": [
        "7. Utiliza el método evaluate para ver la precisión que se alcanzaría con datos nuevos, aplicándolo al conjunto de datos de test. ¿Es muy diferente a la precisión alcanzada en el entrenamiento?\n",
        "\n",
        "Pues a nivel de entrenamiento el número de epoch ha mejorado mucho el acccuracy pero en test ha arrojado un resultado similar al anterior modelo con una capa menos y menos neuronas."
      ],
      "metadata": {
        "id": "OV9KKuHoZHf-"
      }
    },
    {
      "cell_type": "code",
      "source": [
        "test_lost, test_acc = model2.evaluate(X_test, y_test)\n",
        "train_lost, train_acc = model2.evaluate(X_train, y_train)\n",
        "print ('Acierto entrenamiento: ',train_acc, 'Acierto Test: ',test_acc, sep='\\n')"
      ],
      "metadata": {
        "id": "OBJUR3TUP8Xs",
        "colab": {
          "base_uri": "https://localhost:8080/"
        },
        "outputId": "95b4789e-0d9b-47ad-f4ed-e0776859ea72"
      },
      "execution_count": 21,
      "outputs": [
        {
          "output_type": "stream",
          "name": "stdout",
          "text": [
            "313/313 [==============================] - 2s 5ms/step - loss: 490.5836 - accuracy: 0.4274\n",
            "1563/1563 [==============================] - 9s 6ms/step - loss: 0.9481 - accuracy: 0.7066\n",
            "Acierto entrenamiento: \n",
            "0.70660001039505\n",
            "Acierto Test: \n",
            "0.42739999294281006\n"
          ]
        }
      ]
    },
    {
      "cell_type": "code",
      "source": [
        "estadisticas = pd.concat ([estadisticas, pd.DataFrame ([{'model':'Modelo2 RNP','test acc':test_acc ,'train acc':train_acc}])])\n",
        "estadisticas"
      ],
      "metadata": {
        "colab": {
          "base_uri": "https://localhost:8080/",
          "height": 112
        },
        "id": "J1FyGJJkLHNb",
        "outputId": "901a04ee-cbdf-43cf-9aad-7b31d4c6f25a"
      },
      "execution_count": 22,
      "outputs": [
        {
          "output_type": "execute_result",
          "data": {
            "text/plain": [
              "         model  test acc  train acc\n",
              "0  Modelo1 RNP    0.4364    0.54994\n",
              "0  Modelo2 RNP    0.4274    0.70660"
            ],
            "text/html": [
              "\n",
              "  <div id=\"df-2f09c0b3-6b0f-49a3-abb3-6f3b8f704e6c\" class=\"colab-df-container\">\n",
              "    <div>\n",
              "<style scoped>\n",
              "    .dataframe tbody tr th:only-of-type {\n",
              "        vertical-align: middle;\n",
              "    }\n",
              "\n",
              "    .dataframe tbody tr th {\n",
              "        vertical-align: top;\n",
              "    }\n",
              "\n",
              "    .dataframe thead th {\n",
              "        text-align: right;\n",
              "    }\n",
              "</style>\n",
              "<table border=\"1\" class=\"dataframe\">\n",
              "  <thead>\n",
              "    <tr style=\"text-align: right;\">\n",
              "      <th></th>\n",
              "      <th>model</th>\n",
              "      <th>test acc</th>\n",
              "      <th>train acc</th>\n",
              "    </tr>\n",
              "  </thead>\n",
              "  <tbody>\n",
              "    <tr>\n",
              "      <th>0</th>\n",
              "      <td>Modelo1 RNP</td>\n",
              "      <td>0.4364</td>\n",
              "      <td>0.54994</td>\n",
              "    </tr>\n",
              "    <tr>\n",
              "      <th>0</th>\n",
              "      <td>Modelo2 RNP</td>\n",
              "      <td>0.4274</td>\n",
              "      <td>0.70660</td>\n",
              "    </tr>\n",
              "  </tbody>\n",
              "</table>\n",
              "</div>\n",
              "    <div class=\"colab-df-buttons\">\n",
              "\n",
              "  <div class=\"colab-df-container\">\n",
              "    <button class=\"colab-df-convert\" onclick=\"convertToInteractive('df-2f09c0b3-6b0f-49a3-abb3-6f3b8f704e6c')\"\n",
              "            title=\"Convert this dataframe to an interactive table.\"\n",
              "            style=\"display:none;\">\n",
              "\n",
              "  <svg xmlns=\"http://www.w3.org/2000/svg\" height=\"24px\" viewBox=\"0 -960 960 960\">\n",
              "    <path d=\"M120-120v-720h720v720H120Zm60-500h600v-160H180v160Zm220 220h160v-160H400v160Zm0 220h160v-160H400v160ZM180-400h160v-160H180v160Zm440 0h160v-160H620v160ZM180-180h160v-160H180v160Zm440 0h160v-160H620v160Z\"/>\n",
              "  </svg>\n",
              "    </button>\n",
              "\n",
              "  <style>\n",
              "    .colab-df-container {\n",
              "      display:flex;\n",
              "      gap: 12px;\n",
              "    }\n",
              "\n",
              "    .colab-df-convert {\n",
              "      background-color: #E8F0FE;\n",
              "      border: none;\n",
              "      border-radius: 50%;\n",
              "      cursor: pointer;\n",
              "      display: none;\n",
              "      fill: #1967D2;\n",
              "      height: 32px;\n",
              "      padding: 0 0 0 0;\n",
              "      width: 32px;\n",
              "    }\n",
              "\n",
              "    .colab-df-convert:hover {\n",
              "      background-color: #E2EBFA;\n",
              "      box-shadow: 0px 1px 2px rgba(60, 64, 67, 0.3), 0px 1px 3px 1px rgba(60, 64, 67, 0.15);\n",
              "      fill: #174EA6;\n",
              "    }\n",
              "\n",
              "    .colab-df-buttons div {\n",
              "      margin-bottom: 4px;\n",
              "    }\n",
              "\n",
              "    [theme=dark] .colab-df-convert {\n",
              "      background-color: #3B4455;\n",
              "      fill: #D2E3FC;\n",
              "    }\n",
              "\n",
              "    [theme=dark] .colab-df-convert:hover {\n",
              "      background-color: #434B5C;\n",
              "      box-shadow: 0px 1px 3px 1px rgba(0, 0, 0, 0.15);\n",
              "      filter: drop-shadow(0px 1px 2px rgba(0, 0, 0, 0.3));\n",
              "      fill: #FFFFFF;\n",
              "    }\n",
              "  </style>\n",
              "\n",
              "    <script>\n",
              "      const buttonEl =\n",
              "        document.querySelector('#df-2f09c0b3-6b0f-49a3-abb3-6f3b8f704e6c button.colab-df-convert');\n",
              "      buttonEl.style.display =\n",
              "        google.colab.kernel.accessAllowed ? 'block' : 'none';\n",
              "\n",
              "      async function convertToInteractive(key) {\n",
              "        const element = document.querySelector('#df-2f09c0b3-6b0f-49a3-abb3-6f3b8f704e6c');\n",
              "        const dataTable =\n",
              "          await google.colab.kernel.invokeFunction('convertToInteractive',\n",
              "                                                    [key], {});\n",
              "        if (!dataTable) return;\n",
              "\n",
              "        const docLinkHtml = 'Like what you see? Visit the ' +\n",
              "          '<a target=\"_blank\" href=https://colab.research.google.com/notebooks/data_table.ipynb>data table notebook</a>'\n",
              "          + ' to learn more about interactive tables.';\n",
              "        element.innerHTML = '';\n",
              "        dataTable['output_type'] = 'display_data';\n",
              "        await google.colab.output.renderOutput(dataTable, element);\n",
              "        const docLink = document.createElement('div');\n",
              "        docLink.innerHTML = docLinkHtml;\n",
              "        element.appendChild(docLink);\n",
              "      }\n",
              "    </script>\n",
              "  </div>\n",
              "\n",
              "\n",
              "<div id=\"df-9510607e-db3a-4949-a9d0-7781e35d6a26\">\n",
              "  <button class=\"colab-df-quickchart\" onclick=\"quickchart('df-9510607e-db3a-4949-a9d0-7781e35d6a26')\"\n",
              "            title=\"Suggest charts\"\n",
              "            style=\"display:none;\">\n",
              "\n",
              "<svg xmlns=\"http://www.w3.org/2000/svg\" height=\"24px\"viewBox=\"0 0 24 24\"\n",
              "     width=\"24px\">\n",
              "    <g>\n",
              "        <path d=\"M19 3H5c-1.1 0-2 .9-2 2v14c0 1.1.9 2 2 2h14c1.1 0 2-.9 2-2V5c0-1.1-.9-2-2-2zM9 17H7v-7h2v7zm4 0h-2V7h2v10zm4 0h-2v-4h2v4z\"/>\n",
              "    </g>\n",
              "</svg>\n",
              "  </button>\n",
              "\n",
              "<style>\n",
              "  .colab-df-quickchart {\n",
              "      --bg-color: #E8F0FE;\n",
              "      --fill-color: #1967D2;\n",
              "      --hover-bg-color: #E2EBFA;\n",
              "      --hover-fill-color: #174EA6;\n",
              "      --disabled-fill-color: #AAA;\n",
              "      --disabled-bg-color: #DDD;\n",
              "  }\n",
              "\n",
              "  [theme=dark] .colab-df-quickchart {\n",
              "      --bg-color: #3B4455;\n",
              "      --fill-color: #D2E3FC;\n",
              "      --hover-bg-color: #434B5C;\n",
              "      --hover-fill-color: #FFFFFF;\n",
              "      --disabled-bg-color: #3B4455;\n",
              "      --disabled-fill-color: #666;\n",
              "  }\n",
              "\n",
              "  .colab-df-quickchart {\n",
              "    background-color: var(--bg-color);\n",
              "    border: none;\n",
              "    border-radius: 50%;\n",
              "    cursor: pointer;\n",
              "    display: none;\n",
              "    fill: var(--fill-color);\n",
              "    height: 32px;\n",
              "    padding: 0;\n",
              "    width: 32px;\n",
              "  }\n",
              "\n",
              "  .colab-df-quickchart:hover {\n",
              "    background-color: var(--hover-bg-color);\n",
              "    box-shadow: 0 1px 2px rgba(60, 64, 67, 0.3), 0 1px 3px 1px rgba(60, 64, 67, 0.15);\n",
              "    fill: var(--button-hover-fill-color);\n",
              "  }\n",
              "\n",
              "  .colab-df-quickchart-complete:disabled,\n",
              "  .colab-df-quickchart-complete:disabled:hover {\n",
              "    background-color: var(--disabled-bg-color);\n",
              "    fill: var(--disabled-fill-color);\n",
              "    box-shadow: none;\n",
              "  }\n",
              "\n",
              "  .colab-df-spinner {\n",
              "    border: 2px solid var(--fill-color);\n",
              "    border-color: transparent;\n",
              "    border-bottom-color: var(--fill-color);\n",
              "    animation:\n",
              "      spin 1s steps(1) infinite;\n",
              "  }\n",
              "\n",
              "  @keyframes spin {\n",
              "    0% {\n",
              "      border-color: transparent;\n",
              "      border-bottom-color: var(--fill-color);\n",
              "      border-left-color: var(--fill-color);\n",
              "    }\n",
              "    20% {\n",
              "      border-color: transparent;\n",
              "      border-left-color: var(--fill-color);\n",
              "      border-top-color: var(--fill-color);\n",
              "    }\n",
              "    30% {\n",
              "      border-color: transparent;\n",
              "      border-left-color: var(--fill-color);\n",
              "      border-top-color: var(--fill-color);\n",
              "      border-right-color: var(--fill-color);\n",
              "    }\n",
              "    40% {\n",
              "      border-color: transparent;\n",
              "      border-right-color: var(--fill-color);\n",
              "      border-top-color: var(--fill-color);\n",
              "    }\n",
              "    60% {\n",
              "      border-color: transparent;\n",
              "      border-right-color: var(--fill-color);\n",
              "    }\n",
              "    80% {\n",
              "      border-color: transparent;\n",
              "      border-right-color: var(--fill-color);\n",
              "      border-bottom-color: var(--fill-color);\n",
              "    }\n",
              "    90% {\n",
              "      border-color: transparent;\n",
              "      border-bottom-color: var(--fill-color);\n",
              "    }\n",
              "  }\n",
              "</style>\n",
              "\n",
              "  <script>\n",
              "    async function quickchart(key) {\n",
              "      const quickchartButtonEl =\n",
              "        document.querySelector('#' + key + ' button');\n",
              "      quickchartButtonEl.disabled = true;  // To prevent multiple clicks.\n",
              "      quickchartButtonEl.classList.add('colab-df-spinner');\n",
              "      try {\n",
              "        const charts = await google.colab.kernel.invokeFunction(\n",
              "            'suggestCharts', [key], {});\n",
              "      } catch (error) {\n",
              "        console.error('Error during call to suggestCharts:', error);\n",
              "      }\n",
              "      quickchartButtonEl.classList.remove('colab-df-spinner');\n",
              "      quickchartButtonEl.classList.add('colab-df-quickchart-complete');\n",
              "    }\n",
              "    (() => {\n",
              "      let quickchartButtonEl =\n",
              "        document.querySelector('#df-9510607e-db3a-4949-a9d0-7781e35d6a26 button');\n",
              "      quickchartButtonEl.style.display =\n",
              "        google.colab.kernel.accessAllowed ? 'block' : 'none';\n",
              "    })();\n",
              "  </script>\n",
              "</div>\n",
              "    </div>\n",
              "  </div>\n"
            ],
            "application/vnd.google.colaboratory.intrinsic+json": {
              "type": "dataframe",
              "variable_name": "estadisticas",
              "summary": "{\n  \"name\": \"estadisticas\",\n  \"rows\": 2,\n  \"fields\": [\n    {\n      \"column\": \"model\",\n      \"properties\": {\n        \"dtype\": \"string\",\n        \"samples\": [\n          \"Modelo2 RNP\",\n          \"Modelo1 RNP\"\n        ],\n        \"num_unique_values\": 2,\n        \"semantic_type\": \"\",\n        \"description\": \"\"\n      }\n    },\n    {\n      \"column\": \"test acc\",\n      \"properties\": {\n        \"dtype\": \"number\",\n        \"std\": 0.006363963390902444,\n        \"min\": 0.42739999294281006,\n        \"max\": 0.43639999628067017,\n        \"samples\": [\n          0.42739999294281006,\n          0.43639999628067017\n        ],\n        \"num_unique_values\": 2,\n        \"semantic_type\": \"\",\n        \"description\": \"\"\n      }\n    },\n    {\n      \"column\": \"train acc\",\n      \"properties\": {\n        \"dtype\": \"number\",\n        \"std\": 0.11077536273130449,\n        \"min\": 0.5499399900436401,\n        \"max\": 0.70660001039505,\n        \"samples\": [\n          0.70660001039505,\n          0.5499399900436401\n        ],\n        \"num_unique_values\": 2,\n        \"semantic_type\": \"\",\n        \"description\": \"\"\n      }\n    }\n  ]\n}"
            }
          },
          "metadata": {},
          "execution_count": 22
        }
      ]
    },
    {
      "cell_type": "code",
      "source": [
        "model3 = Sequential()\n",
        "model3.add(Flatten(input_shape=(32,32,3)))\n",
        "model3.add(Dense(360, activation='relu'))\n",
        "model3.add(Dense(180, activation='relu'))\n",
        "model3.add(Dense(10, activation='softmax'))"
      ],
      "metadata": {
        "id": "6XpJQBWuSoJ2"
      },
      "execution_count": 23,
      "outputs": []
    },
    {
      "cell_type": "code",
      "source": [
        "model3.compile(optimizer= 'Adam', loss = 'sparse_categorical_crossentropy', metrics=['accuracy'])\n",
        "history3=model3.fit(\n",
        "    X_train,\n",
        "    y_train,\n",
        "    batch_size=64,\n",
        "    epochs=50,\n",
        "    validation_split=0.2)"
      ],
      "metadata": {
        "colab": {
          "base_uri": "https://localhost:8080/"
        },
        "id": "ZnUhNg-YSn4X",
        "outputId": "397974dd-2c11-4a3d-c4cf-66a99ae8ea85"
      },
      "execution_count": 24,
      "outputs": [
        {
          "output_type": "stream",
          "name": "stdout",
          "text": [
            "Epoch 1/50\n",
            "625/625 [==============================] - 11s 16ms/step - loss: 1.8815 - accuracy: 0.3148 - val_loss: 1.7860 - val_accuracy: 0.3552\n",
            "Epoch 2/50\n",
            "625/625 [==============================] - 10s 16ms/step - loss: 1.7047 - accuracy: 0.3859 - val_loss: 1.6817 - val_accuracy: 0.4028\n",
            "Epoch 3/50\n",
            "625/625 [==============================] - 9s 15ms/step - loss: 1.6361 - accuracy: 0.4132 - val_loss: 1.6172 - val_accuracy: 0.4264\n",
            "Epoch 4/50\n",
            "625/625 [==============================] - 10s 16ms/step - loss: 1.5719 - accuracy: 0.4367 - val_loss: 1.6309 - val_accuracy: 0.4109\n",
            "Epoch 5/50\n",
            "625/625 [==============================] - 10s 16ms/step - loss: 1.5387 - accuracy: 0.4487 - val_loss: 1.5672 - val_accuracy: 0.4397\n",
            "Epoch 6/50\n",
            "625/625 [==============================] - 10s 16ms/step - loss: 1.5024 - accuracy: 0.4603 - val_loss: 1.6125 - val_accuracy: 0.4318\n",
            "Epoch 7/50\n",
            "625/625 [==============================] - 9s 14ms/step - loss: 1.4753 - accuracy: 0.4727 - val_loss: 1.5364 - val_accuracy: 0.4479\n",
            "Epoch 8/50\n",
            "625/625 [==============================] - 11s 17ms/step - loss: 1.4426 - accuracy: 0.4840 - val_loss: 1.5251 - val_accuracy: 0.4614\n",
            "Epoch 9/50\n",
            "625/625 [==============================] - 11s 17ms/step - loss: 1.4241 - accuracy: 0.4891 - val_loss: 1.5134 - val_accuracy: 0.4728\n",
            "Epoch 10/50\n",
            "625/625 [==============================] - 10s 16ms/step - loss: 1.4051 - accuracy: 0.4978 - val_loss: 1.4936 - val_accuracy: 0.4761\n",
            "Epoch 11/50\n",
            "625/625 [==============================] - 11s 18ms/step - loss: 1.3801 - accuracy: 0.5080 - val_loss: 1.5025 - val_accuracy: 0.4761\n",
            "Epoch 12/50\n",
            "625/625 [==============================] - 11s 18ms/step - loss: 1.3584 - accuracy: 0.5137 - val_loss: 1.5122 - val_accuracy: 0.4663\n",
            "Epoch 13/50\n",
            "625/625 [==============================] - 10s 17ms/step - loss: 1.3452 - accuracy: 0.5197 - val_loss: 1.5007 - val_accuracy: 0.4702\n",
            "Epoch 14/50\n",
            "625/625 [==============================] - 11s 18ms/step - loss: 1.3235 - accuracy: 0.5275 - val_loss: 1.4886 - val_accuracy: 0.4787\n",
            "Epoch 15/50\n",
            "625/625 [==============================] - 11s 18ms/step - loss: 1.3052 - accuracy: 0.5333 - val_loss: 1.4879 - val_accuracy: 0.4795\n",
            "Epoch 16/50\n",
            "625/625 [==============================] - 11s 18ms/step - loss: 1.2899 - accuracy: 0.5374 - val_loss: 1.4627 - val_accuracy: 0.4927\n",
            "Epoch 17/50\n",
            "625/625 [==============================] - 11s 18ms/step - loss: 1.2696 - accuracy: 0.5454 - val_loss: 1.4919 - val_accuracy: 0.4860\n",
            "Epoch 18/50\n",
            "625/625 [==============================] - 12s 19ms/step - loss: 1.2655 - accuracy: 0.5452 - val_loss: 1.4618 - val_accuracy: 0.4936\n",
            "Epoch 19/50\n",
            "625/625 [==============================] - 12s 18ms/step - loss: 1.2477 - accuracy: 0.5514 - val_loss: 1.5012 - val_accuracy: 0.4878\n",
            "Epoch 20/50\n",
            "625/625 [==============================] - 11s 18ms/step - loss: 1.2287 - accuracy: 0.5589 - val_loss: 1.4699 - val_accuracy: 0.4902\n",
            "Epoch 21/50\n",
            "625/625 [==============================] - 11s 17ms/step - loss: 1.2220 - accuracy: 0.5640 - val_loss: 1.4789 - val_accuracy: 0.4931\n",
            "Epoch 22/50\n",
            "625/625 [==============================] - 11s 17ms/step - loss: 1.2009 - accuracy: 0.5703 - val_loss: 1.5044 - val_accuracy: 0.4913\n",
            "Epoch 23/50\n",
            "625/625 [==============================] - 12s 19ms/step - loss: 1.1915 - accuracy: 0.5725 - val_loss: 1.4683 - val_accuracy: 0.4924\n",
            "Epoch 24/50\n",
            "625/625 [==============================] - 11s 18ms/step - loss: 1.1818 - accuracy: 0.5770 - val_loss: 1.5023 - val_accuracy: 0.4912\n",
            "Epoch 25/50\n",
            "625/625 [==============================] - 12s 18ms/step - loss: 1.1689 - accuracy: 0.5810 - val_loss: 1.5106 - val_accuracy: 0.4767\n",
            "Epoch 26/50\n",
            "625/625 [==============================] - 12s 19ms/step - loss: 1.1607 - accuracy: 0.5837 - val_loss: 1.4633 - val_accuracy: 0.5012\n",
            "Epoch 27/50\n",
            "625/625 [==============================] - 12s 19ms/step - loss: 1.1452 - accuracy: 0.5907 - val_loss: 1.5163 - val_accuracy: 0.4818\n",
            "Epoch 28/50\n",
            "625/625 [==============================] - 12s 19ms/step - loss: 1.1325 - accuracy: 0.5928 - val_loss: 1.5241 - val_accuracy: 0.4952\n",
            "Epoch 29/50\n",
            "625/625 [==============================] - 11s 18ms/step - loss: 1.1260 - accuracy: 0.5968 - val_loss: 1.4909 - val_accuracy: 0.5001\n",
            "Epoch 30/50\n",
            "625/625 [==============================] - 11s 18ms/step - loss: 1.1222 - accuracy: 0.5993 - val_loss: 1.5006 - val_accuracy: 0.4952\n",
            "Epoch 31/50\n",
            "625/625 [==============================] - 12s 19ms/step - loss: 1.1064 - accuracy: 0.6037 - val_loss: 1.4884 - val_accuracy: 0.5011\n",
            "Epoch 32/50\n",
            "625/625 [==============================] - 12s 19ms/step - loss: 1.1017 - accuracy: 0.6048 - val_loss: 1.4861 - val_accuracy: 0.4997\n",
            "Epoch 33/50\n",
            "625/625 [==============================] - 12s 19ms/step - loss: 1.0846 - accuracy: 0.6137 - val_loss: 1.5152 - val_accuracy: 0.5026\n",
            "Epoch 34/50\n",
            "625/625 [==============================] - 12s 19ms/step - loss: 1.0764 - accuracy: 0.6120 - val_loss: 1.5376 - val_accuracy: 0.4878\n",
            "Epoch 35/50\n",
            "625/625 [==============================] - 12s 19ms/step - loss: 1.0697 - accuracy: 0.6158 - val_loss: 1.5160 - val_accuracy: 0.4975\n",
            "Epoch 36/50\n",
            "625/625 [==============================] - 12s 19ms/step - loss: 1.0636 - accuracy: 0.6207 - val_loss: 1.5429 - val_accuracy: 0.4984\n",
            "Epoch 37/50\n",
            "625/625 [==============================] - 12s 19ms/step - loss: 1.0581 - accuracy: 0.6206 - val_loss: 1.5568 - val_accuracy: 0.4973\n",
            "Epoch 38/50\n",
            "625/625 [==============================] - 12s 19ms/step - loss: 1.0487 - accuracy: 0.6224 - val_loss: 1.5667 - val_accuracy: 0.4894\n",
            "Epoch 39/50\n",
            "625/625 [==============================] - 12s 18ms/step - loss: 1.0404 - accuracy: 0.6231 - val_loss: 1.5540 - val_accuracy: 0.4939\n",
            "Epoch 40/50\n",
            "625/625 [==============================] - 11s 18ms/step - loss: 1.0303 - accuracy: 0.6291 - val_loss: 1.5354 - val_accuracy: 0.4937\n",
            "Epoch 41/50\n",
            "625/625 [==============================] - 11s 18ms/step - loss: 1.0206 - accuracy: 0.6303 - val_loss: 1.5610 - val_accuracy: 0.4930\n",
            "Epoch 42/50\n",
            "625/625 [==============================] - 12s 20ms/step - loss: 1.0133 - accuracy: 0.6357 - val_loss: 1.6325 - val_accuracy: 0.4896\n",
            "Epoch 43/50\n",
            "625/625 [==============================] - 12s 20ms/step - loss: 0.9987 - accuracy: 0.6404 - val_loss: 1.5968 - val_accuracy: 0.4919\n",
            "Epoch 44/50\n",
            "625/625 [==============================] - 12s 19ms/step - loss: 0.9988 - accuracy: 0.6404 - val_loss: 1.6130 - val_accuracy: 0.4889\n",
            "Epoch 45/50\n",
            "625/625 [==============================] - 12s 20ms/step - loss: 1.0013 - accuracy: 0.6413 - val_loss: 1.6174 - val_accuracy: 0.4968\n",
            "Epoch 46/50\n",
            "625/625 [==============================] - 12s 20ms/step - loss: 0.9779 - accuracy: 0.6459 - val_loss: 1.6608 - val_accuracy: 0.4920\n",
            "Epoch 47/50\n",
            "625/625 [==============================] - 14s 23ms/step - loss: 0.9795 - accuracy: 0.6446 - val_loss: 1.6270 - val_accuracy: 0.4964\n",
            "Epoch 48/50\n",
            "625/625 [==============================] - 12s 20ms/step - loss: 0.9663 - accuracy: 0.6518 - val_loss: 1.6081 - val_accuracy: 0.4990\n",
            "Epoch 49/50\n",
            "625/625 [==============================] - 12s 20ms/step - loss: 0.9609 - accuracy: 0.6551 - val_loss: 1.6302 - val_accuracy: 0.4943\n",
            "Epoch 50/50\n",
            "625/625 [==============================] - 12s 19ms/step - loss: 0.9550 - accuracy: 0.6553 - val_loss: 1.6672 - val_accuracy: 0.4834\n"
          ]
        }
      ]
    },
    {
      "cell_type": "code",
      "source": [
        "test_lost, test_acc = model3.evaluate(X_test, y_test)\n",
        "train_lost, train_acc = model3.evaluate(X_train, y_train)\n",
        "print ('Acierto entrenamiento: ',train_acc, 'Acierto Test: ',test_acc, sep='\\n')"
      ],
      "metadata": {
        "colab": {
          "base_uri": "https://localhost:8080/"
        },
        "id": "NZ9JMD8YSnaT",
        "outputId": "6f9e244a-1aee-4aab-e3db-4be973523242"
      },
      "execution_count": 25,
      "outputs": [
        {
          "output_type": "stream",
          "name": "stdout",
          "text": [
            "313/313 [==============================] - 2s 5ms/step - loss: 365.7485 - accuracy: 0.4181\n",
            "1563/1563 [==============================] - 8s 5ms/step - loss: 1.0841 - accuracy: 0.6231\n",
            "Acierto entrenamiento: \n",
            "0.6230800151824951\n",
            "Acierto Test: \n",
            "0.4180999994277954\n"
          ]
        }
      ]
    },
    {
      "cell_type": "code",
      "source": [
        "estadisticas = pd.concat ([estadisticas, pd.DataFrame ([{'model':'Modelo3 RNP','test acc':test_acc ,'train acc':train_acc}])])\n",
        "estadisticas"
      ],
      "metadata": {
        "colab": {
          "base_uri": "https://localhost:8080/",
          "height": 143
        },
        "id": "RsLqYKq6TJtA",
        "outputId": "2254dd23-f56e-478c-dbda-6d6907a4d1a7"
      },
      "execution_count": 26,
      "outputs": [
        {
          "output_type": "execute_result",
          "data": {
            "text/plain": [
              "         model  test acc  train acc\n",
              "0  Modelo1 RNP    0.4364    0.54994\n",
              "0  Modelo2 RNP    0.4274    0.70660\n",
              "0  Modelo3 RNP    0.4181    0.62308"
            ],
            "text/html": [
              "\n",
              "  <div id=\"df-510d5c99-59c9-43a1-9e2d-707ad651c602\" class=\"colab-df-container\">\n",
              "    <div>\n",
              "<style scoped>\n",
              "    .dataframe tbody tr th:only-of-type {\n",
              "        vertical-align: middle;\n",
              "    }\n",
              "\n",
              "    .dataframe tbody tr th {\n",
              "        vertical-align: top;\n",
              "    }\n",
              "\n",
              "    .dataframe thead th {\n",
              "        text-align: right;\n",
              "    }\n",
              "</style>\n",
              "<table border=\"1\" class=\"dataframe\">\n",
              "  <thead>\n",
              "    <tr style=\"text-align: right;\">\n",
              "      <th></th>\n",
              "      <th>model</th>\n",
              "      <th>test acc</th>\n",
              "      <th>train acc</th>\n",
              "    </tr>\n",
              "  </thead>\n",
              "  <tbody>\n",
              "    <tr>\n",
              "      <th>0</th>\n",
              "      <td>Modelo1 RNP</td>\n",
              "      <td>0.4364</td>\n",
              "      <td>0.54994</td>\n",
              "    </tr>\n",
              "    <tr>\n",
              "      <th>0</th>\n",
              "      <td>Modelo2 RNP</td>\n",
              "      <td>0.4274</td>\n",
              "      <td>0.70660</td>\n",
              "    </tr>\n",
              "    <tr>\n",
              "      <th>0</th>\n",
              "      <td>Modelo3 RNP</td>\n",
              "      <td>0.4181</td>\n",
              "      <td>0.62308</td>\n",
              "    </tr>\n",
              "  </tbody>\n",
              "</table>\n",
              "</div>\n",
              "    <div class=\"colab-df-buttons\">\n",
              "\n",
              "  <div class=\"colab-df-container\">\n",
              "    <button class=\"colab-df-convert\" onclick=\"convertToInteractive('df-510d5c99-59c9-43a1-9e2d-707ad651c602')\"\n",
              "            title=\"Convert this dataframe to an interactive table.\"\n",
              "            style=\"display:none;\">\n",
              "\n",
              "  <svg xmlns=\"http://www.w3.org/2000/svg\" height=\"24px\" viewBox=\"0 -960 960 960\">\n",
              "    <path d=\"M120-120v-720h720v720H120Zm60-500h600v-160H180v160Zm220 220h160v-160H400v160Zm0 220h160v-160H400v160ZM180-400h160v-160H180v160Zm440 0h160v-160H620v160ZM180-180h160v-160H180v160Zm440 0h160v-160H620v160Z\"/>\n",
              "  </svg>\n",
              "    </button>\n",
              "\n",
              "  <style>\n",
              "    .colab-df-container {\n",
              "      display:flex;\n",
              "      gap: 12px;\n",
              "    }\n",
              "\n",
              "    .colab-df-convert {\n",
              "      background-color: #E8F0FE;\n",
              "      border: none;\n",
              "      border-radius: 50%;\n",
              "      cursor: pointer;\n",
              "      display: none;\n",
              "      fill: #1967D2;\n",
              "      height: 32px;\n",
              "      padding: 0 0 0 0;\n",
              "      width: 32px;\n",
              "    }\n",
              "\n",
              "    .colab-df-convert:hover {\n",
              "      background-color: #E2EBFA;\n",
              "      box-shadow: 0px 1px 2px rgba(60, 64, 67, 0.3), 0px 1px 3px 1px rgba(60, 64, 67, 0.15);\n",
              "      fill: #174EA6;\n",
              "    }\n",
              "\n",
              "    .colab-df-buttons div {\n",
              "      margin-bottom: 4px;\n",
              "    }\n",
              "\n",
              "    [theme=dark] .colab-df-convert {\n",
              "      background-color: #3B4455;\n",
              "      fill: #D2E3FC;\n",
              "    }\n",
              "\n",
              "    [theme=dark] .colab-df-convert:hover {\n",
              "      background-color: #434B5C;\n",
              "      box-shadow: 0px 1px 3px 1px rgba(0, 0, 0, 0.15);\n",
              "      filter: drop-shadow(0px 1px 2px rgba(0, 0, 0, 0.3));\n",
              "      fill: #FFFFFF;\n",
              "    }\n",
              "  </style>\n",
              "\n",
              "    <script>\n",
              "      const buttonEl =\n",
              "        document.querySelector('#df-510d5c99-59c9-43a1-9e2d-707ad651c602 button.colab-df-convert');\n",
              "      buttonEl.style.display =\n",
              "        google.colab.kernel.accessAllowed ? 'block' : 'none';\n",
              "\n",
              "      async function convertToInteractive(key) {\n",
              "        const element = document.querySelector('#df-510d5c99-59c9-43a1-9e2d-707ad651c602');\n",
              "        const dataTable =\n",
              "          await google.colab.kernel.invokeFunction('convertToInteractive',\n",
              "                                                    [key], {});\n",
              "        if (!dataTable) return;\n",
              "\n",
              "        const docLinkHtml = 'Like what you see? Visit the ' +\n",
              "          '<a target=\"_blank\" href=https://colab.research.google.com/notebooks/data_table.ipynb>data table notebook</a>'\n",
              "          + ' to learn more about interactive tables.';\n",
              "        element.innerHTML = '';\n",
              "        dataTable['output_type'] = 'display_data';\n",
              "        await google.colab.output.renderOutput(dataTable, element);\n",
              "        const docLink = document.createElement('div');\n",
              "        docLink.innerHTML = docLinkHtml;\n",
              "        element.appendChild(docLink);\n",
              "      }\n",
              "    </script>\n",
              "  </div>\n",
              "\n",
              "\n",
              "<div id=\"df-72b99655-f3fd-4929-87af-c96f7221c9c9\">\n",
              "  <button class=\"colab-df-quickchart\" onclick=\"quickchart('df-72b99655-f3fd-4929-87af-c96f7221c9c9')\"\n",
              "            title=\"Suggest charts\"\n",
              "            style=\"display:none;\">\n",
              "\n",
              "<svg xmlns=\"http://www.w3.org/2000/svg\" height=\"24px\"viewBox=\"0 0 24 24\"\n",
              "     width=\"24px\">\n",
              "    <g>\n",
              "        <path d=\"M19 3H5c-1.1 0-2 .9-2 2v14c0 1.1.9 2 2 2h14c1.1 0 2-.9 2-2V5c0-1.1-.9-2-2-2zM9 17H7v-7h2v7zm4 0h-2V7h2v10zm4 0h-2v-4h2v4z\"/>\n",
              "    </g>\n",
              "</svg>\n",
              "  </button>\n",
              "\n",
              "<style>\n",
              "  .colab-df-quickchart {\n",
              "      --bg-color: #E8F0FE;\n",
              "      --fill-color: #1967D2;\n",
              "      --hover-bg-color: #E2EBFA;\n",
              "      --hover-fill-color: #174EA6;\n",
              "      --disabled-fill-color: #AAA;\n",
              "      --disabled-bg-color: #DDD;\n",
              "  }\n",
              "\n",
              "  [theme=dark] .colab-df-quickchart {\n",
              "      --bg-color: #3B4455;\n",
              "      --fill-color: #D2E3FC;\n",
              "      --hover-bg-color: #434B5C;\n",
              "      --hover-fill-color: #FFFFFF;\n",
              "      --disabled-bg-color: #3B4455;\n",
              "      --disabled-fill-color: #666;\n",
              "  }\n",
              "\n",
              "  .colab-df-quickchart {\n",
              "    background-color: var(--bg-color);\n",
              "    border: none;\n",
              "    border-radius: 50%;\n",
              "    cursor: pointer;\n",
              "    display: none;\n",
              "    fill: var(--fill-color);\n",
              "    height: 32px;\n",
              "    padding: 0;\n",
              "    width: 32px;\n",
              "  }\n",
              "\n",
              "  .colab-df-quickchart:hover {\n",
              "    background-color: var(--hover-bg-color);\n",
              "    box-shadow: 0 1px 2px rgba(60, 64, 67, 0.3), 0 1px 3px 1px rgba(60, 64, 67, 0.15);\n",
              "    fill: var(--button-hover-fill-color);\n",
              "  }\n",
              "\n",
              "  .colab-df-quickchart-complete:disabled,\n",
              "  .colab-df-quickchart-complete:disabled:hover {\n",
              "    background-color: var(--disabled-bg-color);\n",
              "    fill: var(--disabled-fill-color);\n",
              "    box-shadow: none;\n",
              "  }\n",
              "\n",
              "  .colab-df-spinner {\n",
              "    border: 2px solid var(--fill-color);\n",
              "    border-color: transparent;\n",
              "    border-bottom-color: var(--fill-color);\n",
              "    animation:\n",
              "      spin 1s steps(1) infinite;\n",
              "  }\n",
              "\n",
              "  @keyframes spin {\n",
              "    0% {\n",
              "      border-color: transparent;\n",
              "      border-bottom-color: var(--fill-color);\n",
              "      border-left-color: var(--fill-color);\n",
              "    }\n",
              "    20% {\n",
              "      border-color: transparent;\n",
              "      border-left-color: var(--fill-color);\n",
              "      border-top-color: var(--fill-color);\n",
              "    }\n",
              "    30% {\n",
              "      border-color: transparent;\n",
              "      border-left-color: var(--fill-color);\n",
              "      border-top-color: var(--fill-color);\n",
              "      border-right-color: var(--fill-color);\n",
              "    }\n",
              "    40% {\n",
              "      border-color: transparent;\n",
              "      border-right-color: var(--fill-color);\n",
              "      border-top-color: var(--fill-color);\n",
              "    }\n",
              "    60% {\n",
              "      border-color: transparent;\n",
              "      border-right-color: var(--fill-color);\n",
              "    }\n",
              "    80% {\n",
              "      border-color: transparent;\n",
              "      border-right-color: var(--fill-color);\n",
              "      border-bottom-color: var(--fill-color);\n",
              "    }\n",
              "    90% {\n",
              "      border-color: transparent;\n",
              "      border-bottom-color: var(--fill-color);\n",
              "    }\n",
              "  }\n",
              "</style>\n",
              "\n",
              "  <script>\n",
              "    async function quickchart(key) {\n",
              "      const quickchartButtonEl =\n",
              "        document.querySelector('#' + key + ' button');\n",
              "      quickchartButtonEl.disabled = true;  // To prevent multiple clicks.\n",
              "      quickchartButtonEl.classList.add('colab-df-spinner');\n",
              "      try {\n",
              "        const charts = await google.colab.kernel.invokeFunction(\n",
              "            'suggestCharts', [key], {});\n",
              "      } catch (error) {\n",
              "        console.error('Error during call to suggestCharts:', error);\n",
              "      }\n",
              "      quickchartButtonEl.classList.remove('colab-df-spinner');\n",
              "      quickchartButtonEl.classList.add('colab-df-quickchart-complete');\n",
              "    }\n",
              "    (() => {\n",
              "      let quickchartButtonEl =\n",
              "        document.querySelector('#df-72b99655-f3fd-4929-87af-c96f7221c9c9 button');\n",
              "      quickchartButtonEl.style.display =\n",
              "        google.colab.kernel.accessAllowed ? 'block' : 'none';\n",
              "    })();\n",
              "  </script>\n",
              "</div>\n",
              "    </div>\n",
              "  </div>\n"
            ],
            "application/vnd.google.colaboratory.intrinsic+json": {
              "type": "dataframe",
              "variable_name": "estadisticas",
              "summary": "{\n  \"name\": \"estadisticas\",\n  \"rows\": 3,\n  \"fields\": [\n    {\n      \"column\": \"model\",\n      \"properties\": {\n        \"dtype\": \"string\",\n        \"samples\": [\n          \"Modelo1 RNP\",\n          \"Modelo2 RNP\",\n          \"Modelo3 RNP\"\n        ],\n        \"num_unique_values\": 3,\n        \"semantic_type\": \"\",\n        \"description\": \"\"\n      }\n    },\n    {\n      \"column\": \"test acc\",\n      \"properties\": {\n        \"dtype\": \"number\",\n        \"std\": 0.009150408226558653,\n        \"min\": 0.4180999994277954,\n        \"max\": 0.43639999628067017,\n        \"samples\": [\n          0.43639999628067017,\n          0.42739999294281006,\n          0.4180999994277954\n        ],\n        \"num_unique_values\": 3,\n        \"semantic_type\": \"\",\n        \"description\": \"\"\n      }\n    },\n    {\n      \"column\": \"train acc\",\n      \"properties\": {\n        \"dtype\": \"number\",\n        \"std\": 0.07838730217550301,\n        \"min\": 0.5499399900436401,\n        \"max\": 0.70660001039505,\n        \"samples\": [\n          0.5499399900436401,\n          0.70660001039505,\n          0.6230800151824951\n        ],\n        \"num_unique_values\": 3,\n        \"semantic_type\": \"\",\n        \"description\": \"\"\n      }\n    }\n  ]\n}"
            }
          },
          "metadata": {},
          "execution_count": 26
        }
      ]
    },
    {
      "cell_type": "markdown",
      "source": [
        "En este tercer modelo volvemos a poner 2 capas pero más neuronas por capa no obteniendo mejoras significativas, de hecho los 3 resultados son muy similares. Está claro que a más epoch mejores resultados de aprendizaje pero en los test sigue arrojando valores que son malos.\n",
        "El el siguiente bloque vamos a representar \"estadísticas\" el dataframe con los valores recogidos del entrenamiento y test de cada modelo para poder compararlos."
      ],
      "metadata": {
        "id": "sQg0tZrq3Oye"
      }
    },
    {
      "cell_type": "code",
      "source": [
        "import matplotlib.pyplot as plt\n",
        "import pandas as pd\n",
        "estadisticas.plot(kind='bar', x='model', y='test acc', legend=False)\n",
        "plt.xlabel('Modelos')\n",
        "plt.ylabel('Bondad de los TEST')\n",
        "plt.title('Relación entre distintas configuraciones de RNP')\n",
        "\n",
        "# Mostrar la gráfica\n",
        "plt.show()"
      ],
      "metadata": {
        "colab": {
          "base_uri": "https://localhost:8080/",
          "height": 550
        },
        "id": "wX18MPBybqAG",
        "outputId": "e8ea403c-60a4-44b9-9a28-977ad90baaee"
      },
      "execution_count": 27,
      "outputs": [
        {
          "output_type": "display_data",
          "data": {
            "text/plain": [
              "<Figure size 640x480 with 1 Axes>"
            ],
            "image/png": "[encoded data removed]"
          },
          "metadata": {}
        }
      ]
    },
    {
      "cell_type": "markdown",
      "source": [
        "El modelo 1 con 2 capas y 20 iteraciones ha conseguido mejor resultado que el modelo 2 con 3 capas muchas más neuronas y muchas más iteraciones.\n",
        "El modelo 3 pese a tener 2 capas y más neuronas por capa, aún con 50 epoch no ha conseguido superar al primer modelo luego no por poner más neuronas se consigue en este dataset mejores resultados.\n"
      ],
      "metadata": {
        "id": "KLub0T5z3ytK"
      }
    },
    {
      "cell_type": "markdown",
      "source": [
        "8. Explora de forma visual la precisión que se consigue, representando las primeras 25 imágenes del conjunto de datos de test, y comparando la etiqueta real con la de la predicción. Aquí tienes una posible forma de hacerlo (recuerda poner el nombre de tu modelo a la hora de aplicar el método predict):\n",
        "\n",
        "\n",
        "```\n",
        "predictions = model.predict(X_test)\n",
        "\n",
        "class_names = ['airplane','automobile','bird','cat','deer','dog','frog','horse','ship','truck']\n",
        "\n",
        "plt.figure(figsize=(10,10))\n",
        "for i in range(25):\n",
        "    plt.subplot(5,5,i+1)\n",
        "    plt.xticks([])\n",
        "    plt.yticks([])\n",
        "    plt.grid('off')\n",
        "    plt.imshow(X_test[i], cmap=plt.cm.binary)\n",
        "    predicted_label = predictions[i]\n",
        "    true_label = y_test[i]\n",
        "    if predicted_label.argmax() == true_label.tolist().index(1.):\n",
        "      color = 'green'\n",
        "    else:\n",
        "      color = 'red'\n",
        "    plt.xlabel(\"{} ({})\".format(class_names[predicted_label.argmax()],\n",
        "                                  class_names[true_label.tolist().index(1.)]),\n",
        "                                  color=color)\n",
        "                                \n",
        "```\n",
        "\n"
      ],
      "metadata": {
        "id": "cxfT2LO0Z31K"
      }
    },
    {
      "cell_type": "markdown",
      "source": [
        "Para el código facilitado tuve errores debido al método index para encontrar el índice del valor 1 en el array. Lo cual no funcionará correctamente si el valor 1 no es el primer elemento en el array.\n",
        "\n",
        "plt.figure(figsize=(10,10))\n",
        "for i in range(25):\n",
        "...\n",
        "if predicted_label.argmax() == true_label.tolist().index(1.): **\"aquí\"**\n",
        "class_names[true_label.tolist().index(1.)]), **\"aquí\"**\n",
        "\n",
        "Navegando por internet encontré que si usas el método argmax() para obtener el índice del valor máximo en el array.\n",
        "\n",
        "                                  "
      ],
      "metadata": {
        "id": "EOpY3LJr_qm6"
      }
    },
    {
      "cell_type": "code",
      "source": [
        "predictions = model1.predict(X_test)\n",
        "\n",
        "class_names = ['Avión', 'Automóvil', 'Pájaro', 'Gato', 'Venado',\n",
        "               'Perro', 'Rana', 'Caballo', 'Barco', 'Camión']\n",
        "\n",
        "\n",
        "plt.figure(figsize=(10,10))\n",
        "for i in range(25):\n",
        "    plt.subplot(5,5,i+1)\n",
        "    plt.xticks([])\n",
        "    plt.yticks([])\n",
        "    plt.grid('off')\n",
        "    plt.imshow(X_test[i], cmap=plt.cm.binary)\n",
        "    predicted_label = predictions[i]\n",
        "    true_label = y_test[i]\n",
        "    if predicted_label.argmax() == true_label.argmax(): color = 'green'\n",
        "    else: color = 'red'\n",
        "    plt.xlabel(\"{} ({})\".format(class_names[predicted_label.argmax()], class_names[true_label.argmax()]), color=color)"
      ],
      "metadata": {
        "id": "Mg0qYk8jfcCF",
        "colab": {
          "base_uri": "https://localhost:8080/",
          "height": 844
        },
        "outputId": "1cc78fa9-1d1d-44d6-9cc7-ebc249ad59f5"
      },
      "execution_count": 57,
      "outputs": [
        {
          "output_type": "stream",
          "name": "stdout",
          "text": [
            "313/313 [==============================] - 1s 4ms/step\n"
          ]
        },
        {
          "output_type": "display_data",
          "data": {
            "text/plain": [
              "<Figure size 1000x1000 with 25 Axes>"
            ],
            "image/png": "[encoded data removed]"
          },
          "metadata": {}
        }
      ]
    },
    {
      "cell_type": "markdown",
      "source": [
        "Como era de esperar siendo el modelo tan limitado, no ha acertado casi nada."
      ],
      "metadata": {
        "id": "TRY-ZULaA1B9"
      }
    },
    {
      "cell_type": "markdown",
      "source": [
        "#BIBLIOGRAFÍA\n",
        "Referencia  | Enlace\n",
        "-------------------|------------------\n",
        "Enlace colab            | <a href=\"https://colab.research.google.com/drive/1fN6tWaDWMQUv5MKuiTnGg7vP6q0QAQCT?usp=sharing\"/>Pincha aquí</a>\n",
        "Stackoverflow | <a href=https://stackoverflow.com/questions/5469286/how-to-get-the-index-of-a-maximum-element-in-a-numpy-array-along-one-axis/>Pincha aquí</a>\n",
        "Grabaciones clases           | <a href=\"https://educacionadistancia.juntadeandalucia.es/formacionprofesional/mod/lti/view.php?id=86434\"/>Pincha aquí</a>\n",
        "Unidad didáctica 5 | <a href=\"https://educacionadistancia.juntadeandalucia.es/formacionprofesional/blocks/recopila/recopila.php?id=4218&dopt=1\">Pincha aquí</a>\n",
        "\n",
        "<div align=\"LEFT\">\n",
        "<a href=https://github.com/dashboard/>\n",
        "<img src=\"https://www.enriquedans.com/wp-content/uploads/2018/06/GitHub-Octocat.jpg\" alt=\"Enlace a github del autor\" width=\"150\" height=\"150\"align=\"justify\" /></a>\n",
        "<p><a href=https://www.enriquedans.com/wp-content/uploads/2018/06/GitHub-Octocat.jpg/><font size=\"1\" color=\"#87CEEB\">Imagen<p/></a></div>"
      ],
      "metadata": {
        "id": "ZpiDrhtqBqp2"
      }
    }
  ]
}