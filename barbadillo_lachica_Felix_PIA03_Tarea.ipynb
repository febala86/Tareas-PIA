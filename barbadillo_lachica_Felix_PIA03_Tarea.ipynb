{
  "nbformat": 4,
  "nbformat_minor": 0,
  "metadata": {
    "colab": {
      "provenance": [],
      "authorship_tag": "ABX9TyN8RPhFDb826kFi2itBjfCn",
      "include_colab_link": true
    },
    "kernelspec": {
      "name": "python3",
      "display_name": "Python 3"
    },
    "language_info": {
      "name": "python"
    }
  },
  "cells": [
    {
      "cell_type": "markdown",
      "metadata": {
        "id": "view-in-github",
        "colab_type": "text"
      },
      "source": [
        "<a href=\"https://colab.research.google.com/github/febala86/Tareas-PIA/blob/main/barbadillo_lachica_Felix_PIA03_Tarea.ipynb\" target=\"_parent\"><img src=\"https://colab.research.google.com/assets/colab-badge.svg\" alt=\"Open In Colab\"/></a>"
      ]
    },
    {
      "cell_type": "markdown",
      "source": [
        "#PROGRAMACIÓN DE TAREAS SENCILLAS EN PYTHON\n",
        "\n",
        ">1. En la primera celda de código, escribe y ejecuta esta orden: *import this*\n"
      ],
      "metadata": {
        "id": "PzK7p778V9eR"
      }
    },
    {
      "cell_type": "code",
      "execution_count": 39,
      "metadata": {
        "id": "ASQrviRYR90N"
      },
      "outputs": [],
      "source": [
        "import this"
      ]
    },
    {
      "cell_type": "markdown",
      "source": [
        ">2. Crear una lista de 10 nombres de ciudades y luego haz que se muestre utilizando print."
      ],
      "metadata": {
        "id": "TeWLMpg6bN6M"
      }
    },
    {
      "cell_type": "code",
      "source": [
        "ciudades = [\"Aberdeen\",\"Lafayette\",\"Parral\",\"Fuente Vaqueros\",\"Figueras\",\"Anchiano\",\"Zundert\",\"Sevilla\"]\n",
        "print (ciudades)\n"
      ],
      "metadata": {
        "colab": {
          "base_uri": "https://localhost:8080/"
        },
        "id": "xDsqDqUCVDeg",
        "outputId": "f18b4338-30fa-4c72-ae90-ec5122f8a8cc"
      },
      "execution_count": 40,
      "outputs": [
        {
          "output_type": "stream",
          "name": "stdout",
          "text": [
            "['Aberdeen', 'Lafayette', 'Parral', 'Fuente Vaqueros', 'Figueras', 'Anchiano', 'Zundert', 'Sevilla']\n"
          ]
        }
      ]
    },
    {
      "cell_type": "markdown",
      "source": [
        "##Se puede también listar con el comando list ().\n",
        "\n",
        ">3. Crea una nueva lista con 10 nombres de artistas o cantantes, y utiliza *print()* para mostrarla.\n",
        "\n",
        "Para el siguiente caso vamos a listar los elementos de \"artistas\" en vertical añadiendo un retorno de carro, con **sep='\\n'**\n",
        "\n"
      ],
      "metadata": {
        "id": "kyAr9x6HbiP_"
      }
    },
    {
      "cell_type": "code",
      "source": [
        "Artistas = [\"Kurt Cobain\",\"Axl Rose\",\"Pablo Neruda\",\"Federico García Lorca\",\n",
        "            \"Salvador Dalí\",\"Leonardo Da Vinci\",\"Vincent Van Gogh\",\n",
        "            \"Diego Velázquez\",\"Chris Martin\",\"Laura Pergolizzi\"]\n",
        "\n",
        "print (*Artistas, sep='\\n')\n"
      ],
      "metadata": {
        "colab": {
          "base_uri": "https://localhost:8080/"
        },
        "id": "qDb1uPVKWgZT",
        "outputId": "1f5b37a2-0cc9-46f7-d95e-519c74906cea"
      },
      "execution_count": 41,
      "outputs": [
        {
          "output_type": "stream",
          "name": "stdout",
          "text": [
            "Kurt Cobain\n",
            "Axl Rose\n",
            "Pablo Neruda\n",
            "Federico García Lorca\n",
            "Salvador Dalí\n",
            "Leonardo Da Vinci\n",
            "Vincent Van Gogh\n",
            "Diego Velázquez\n",
            "Chris Martin\n",
            "Laura Pergolizzi\n"
          ]
        }
      ]
    },
    {
      "cell_type": "markdown",
      "source": [
        ">4. Crea un diccionario en el que la clave sea el *nombre del artista*/**clave** y el valor sea el *nombre de una ciudad*/**valor**\n"
      ],
      "metadata": {
        "id": "dzjKKr02drRd"
      }
    },
    {
      "cell_type": "code",
      "source": [
        "dc_nombre_ciudad = {\n",
        "    \"Tom Odell\": \"Zaragoza\",\n",
        "    \"Axl Rose, Guns N' Roses\": \"Vigo\",\n",
        "    \"Jared Leto ,Thirty Seconds to Mars\": \"Valencia\",\n",
        "    \"Sharon den Adel ,Within Temptation\": \"Nueva York\",\n",
        "    \"Billie Joe Armstrong ,Green Day\" : \"Barcelona\",\n",
        "    \"Vince Clarke ,Depeche Mode\": \"Madrid\",\n",
        "    \"Anthony Kiedis, Red Hot Chili Peppers\": \"Toronto\",\n",
        "    \"Dave Grohl, Foo Fighters\": \"Bilbao\",\n",
        "    \"Chris Martin, ColdPlay\":\"Devon\",\n",
        "    \"Laura Pergolizzi, LP\" :\"Long Island\"\n",
        "}"
      ],
      "metadata": {
        "id": "PeaSH0RHGq0C"
      },
      "execution_count": 42,
      "outputs": []
    },
    {
      "cell_type": "markdown",
      "source": [
        "Luego imprimiremos *Estos son los conciertos para esta semana:* junto con los pares de valores clave y valor.\n",
        "**Hemos usado un bucle for**\n",
        "*print f hace referencia a que es un tipo de dato string*"
      ],
      "metadata": {
        "id": "c2r1OrrZeMUv"
      }
    },
    {
      "cell_type": "code",
      "source": [
        "print(\"Estos son los conciertos para esta semana:\")\n",
        "for nombre, ciudad in dc_nombre_ciudad.items():\n",
        "    print(f\"{nombre} en {ciudad}.\")"
      ],
      "metadata": {
        "colab": {
          "base_uri": "https://localhost:8080/"
        },
        "id": "OyT5FL73LJww",
        "outputId": "f8d1d864-c53b-410c-c9cf-00e2cc987175"
      },
      "execution_count": 43,
      "outputs": [
        {
          "output_type": "stream",
          "name": "stdout",
          "text": [
            "Estos son los conciertos para esta semana:\n",
            "Tom Odell en Zaragoza.\n",
            "Axl Rose, Guns N' Roses en Vigo.\n",
            "Jared Leto ,Thirty Seconds to Mars en Valencia.\n",
            "Sharon den Adel ,Within Temptation en Nueva York.\n",
            "Billie Joe Armstrong ,Green Day en Barcelona.\n",
            "Vince Clarke ,Depeche Mode en Madrid.\n",
            "Anthony Kiedis, Red Hot Chili Peppers en Toronto.\n",
            "Dave Grohl, Foo Fighters en Bilbao.\n",
            "Chris Martin, ColdPlay en Devon.\n",
            "Laura Pergolizzi, LP en Long Island.\n"
          ]
        }
      ]
    },
    {
      "cell_type": "markdown",
      "source": [
        ">5. Escribe el código necesario para cambiar de ciudad a todos los artistas para un nuevo concierto de su gira. Vuelve a programar también que se muestre la relación de artistas y ciudades. Genera una rotación sobre la lista de ciudades, vuelve a construir el diccionario y genera la nueva lista de conciertos"
      ],
      "metadata": {
        "id": "2VOrEHlzeo6w"
      }
    },
    {
      "cell_type": "code",
      "source": [
        "nuevos_conciertos = {\n",
        "    \"Tom Odell\": \"Paris\",\n",
        "    \"Axl Rose, Guns N' Roses\": \"Londres\",\n",
        "    \"Jared Leto ,Thirty Seconds to Mars\": \"Berlin\",\n",
        "    \"Sharon den Adel ,Within Temptation\": \"Moskú\",\n",
        "    \"Billie Joe Armstrong ,Green Day\" : \"Roma\",\n",
        "    \"Vince Clarke ,Depeche Mode\": \"Ámsterdam\",\n",
        "    \"Anthony Kiedis, Red Hot Chili Peppers\": \"Bucarest\",\n",
        "    \"Dave Grohl, Foo Fighters\": \"Granada\",\n",
        "    \"Chris Martin, ColdPlay\":\"Madrid\",\n",
        "    \"Laura Pergolizzi, LP\" :\"Kiev\"\n",
        "}\n",
        "dc_nombre_ciudad.update (nuevos_conciertos)\n",
        "\n",
        "#Otra forma sería sustituyendo uno a uno con dc_nombre_ciudad[\"nombre\"] = \"ciudad nueva\"\n",
        "\n",
        "print(\"Estos son los conciertos para esta semana:\")\n",
        "for nombre, ciudad in dc_nombre_ciudad.items():\n",
        "    print(f\"{nombre} en {ciudad}.\")"
      ],
      "metadata": {
        "colab": {
          "base_uri": "https://localhost:8080/"
        },
        "id": "Ub1S549PPpgK",
        "outputId": "e4f672b5-fdd2-4981-e872-d56c890dc0d5"
      },
      "execution_count": 44,
      "outputs": [
        {
          "output_type": "stream",
          "name": "stdout",
          "text": [
            "Estos son los conciertos para esta semana:\n",
            "Tom Odell en Paris.\n",
            "Axl Rose, Guns N' Roses en Londres.\n",
            "Jared Leto ,Thirty Seconds to Mars en Berlin.\n",
            "Sharon den Adel ,Within Temptation en Moskú.\n",
            "Billie Joe Armstrong ,Green Day en Roma.\n",
            "Vince Clarke ,Depeche Mode en Ámsterdam.\n",
            "Anthony Kiedis, Red Hot Chili Peppers en Bucarest.\n",
            "Dave Grohl, Foo Fighters en Granada.\n",
            "Chris Martin, ColdPlay en Madrid.\n",
            "Laura Pergolizzi, LP en Kiev.\n"
          ]
        }
      ]
    },
    {
      "cell_type": "markdown",
      "source": [
        "*Para hacerlo más automatizable hemos creado un segundo diccionario con los cambios y después usado \"update\" para poder actualizaer los valores en nuestro diccionario origen con:*\n",
        "dc_nombre_ciudad.**update** (nuevos_conciertos)"
      ],
      "metadata": {
        "id": "XxdN7AKTe31H"
      }
    },
    {
      "cell_type": "markdown",
      "source": [
        ">6. Por último ya que no es posible rotar elementos de un diccionario, tuvimos que listar los elementos de dicho diccionario para después poder añadir una rotación a los valores **ciudad**. Por último \"*importamos*\" estos valores en un nuevo diccionario para imprimir finalmente el resultado."
      ],
      "metadata": {
        "id": "N1x0CKh5fnat"
      }
    },
    {
      "cell_type": "code",
      "source": [
        "# Convertir el diccionario a una lista de tuplas key y valores\n",
        "artista = list(dc_nombre_ciudad.keys())\n",
        "ciudades = list(dc_nombre_ciudad.values())\n",
        "\n",
        "# Rotar la lista de valores\n",
        "rotacion = 2\n",
        "nuevas_ciudades = ciudades[-rotacion:] + ciudades[:-rotacion]\n",
        "\n",
        "# Reconstruir un nuevo diccionario a partir de la lista rotada\n",
        "nuevo_diccionario_conciertos = dict(zip(artista,nuevas_ciudades))\n",
        "print(\"Estos son los conciertos para la próxima semana:\")\n",
        "for nombre, ciudad in nuevo_diccionario_conciertos.items():\n",
        "    print(f\"{nombre} en {ciudad}.\")"
      ],
      "metadata": {
        "colab": {
          "base_uri": "https://localhost:8080/"
        },
        "id": "Jv1iOO4AR5ni",
        "outputId": "e1a346ce-b0d8-4efe-861f-0d41e53ffdff"
      },
      "execution_count": 45,
      "outputs": [
        {
          "output_type": "stream",
          "name": "stdout",
          "text": [
            "Estos son los conciertos para la próxima semana:\n",
            "Tom Odell en Madrid.\n",
            "Axl Rose, Guns N' Roses en Kiev.\n",
            "Jared Leto ,Thirty Seconds to Mars en Paris.\n",
            "Sharon den Adel ,Within Temptation en Londres.\n",
            "Billie Joe Armstrong ,Green Day en Berlin.\n",
            "Vince Clarke ,Depeche Mode en Moskú.\n",
            "Anthony Kiedis, Red Hot Chili Peppers en Roma.\n",
            "Dave Grohl, Foo Fighters en Ámsterdam.\n",
            "Chris Martin, ColdPlay en Bucarest.\n",
            "Laura Pergolizzi, LP en Granada.\n"
          ]
        }
      ]
    },
    {
      "cell_type": "markdown",
      "source": [
        "Para rotar se usa una variable numérica en la que definimos en número de veces que va a rotar hacia la \"derecha\". Luego con [-rotacion:] y [:-rotacion] se guarda esta rotación en la nueva variable y finalmente la importación la hacemos creando un diccionario nuevo y con el comando **ZIP** insertando pares clave \"**artistas**\" y \"**valores rotados ciudad**\"."
      ],
      "metadata": {
        "id": "8iesTjgIgJF8"
      }
    },
    {
      "cell_type": "markdown",
      "source": [
        "> BIBLIOGRAFÍA\n",
        "\n",
        "Referencia  | Enlace\n",
        "-------------------|------------------\n",
        "Google colab       | <a href=https://colab.research.google.com/notebooks/markdown_guide.ipynb/>Pincha aquí</a>\n",
        "Jupiter            | <a href=https://jupyter-notebook.readthedocs.io/en/stable/examples/Notebook/Working%20With%20Markdown%20Cells.html/>Pincha aquí</a>\n",
        "El libro de python | <a href=https://ellibrodepython.com/>Pincha aquí</a>\n",
        "Desarrollo web     | <a href=https://desarrolloweb.com/>Pincha aquí</a>\n",
        "\n",
        "<div align=\"LEFT\">\n",
        "<a href=https://github.com/febala86/>\n",
        "<img src=\"https://www.enriquedans.com/wp-content/uploads/2018/06/GitHub-Octocat.jpg\" alt=\"Enlace a github del autor\" width=\"150\" height=\"150\"align=\"justify\" /></a>\n",
        "<p><a href=https://www.enriquedans.com/wp-content/uploads/2018/06/GitHub-Octocat.jpg/><font size=\"1\" color=\"#87CEEB\">Imagen<p/></a></div>"
      ],
      "metadata": {
        "id": "JwTgasSMa5mM"
      }
    }
  ]
}